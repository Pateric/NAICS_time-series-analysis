{
 "cells": [
  {
   "cell_type": "markdown",
   "metadata": {},
   "source": [
    "## North American Industry Classification System (NAICS) Time Series Analysis"
   ]
  },
  {
   "cell_type": "markdown",
   "metadata": {},
   "source": [
    "The North American Industry Classification System (NAICS) is an industry classification system developed by the statistical agencies of Canada, Mexico and the United States. NAICS is designed to provide common definitions of the industrial structure of the three countries and a common statistical framework to facilitate the analysis of the three economies. The NAICS structure is hierarchical with a six-digit code numbering system adopted, of which the first five digits are used to describe the NAICS levels that will be used by the three countries (i.e. Canada, Mexico and the United States) to produce comparable data. The first two digits designate the sector, the third digit designates the subsector, the fourth digit designates the industry group and the fifth digit designates the industry. The sixth digit is used to designate national industries. A zero as the sixth digit indicates that there is no further national detail."
   ]
  },
  {
   "cell_type": "markdown",
   "metadata": {},
   "source": [
    "### Description of the File used for the analysis\n",
    "As said earlier, the hierarchical structure of  the NAICS defines industries at different levels of aggregation with highest aggregate been a 2-digit NAICS industry (e.g., 23 - Construction) which is then composed of some 3-digit NAICS industries (236 - Construction of buildings, 237 - Heavy and civil engineering construction, and a few more 3-digit NAICS industries). Similarly, a 3-digit NAICS industry (e.g., 236 - Construction of buildings), is composed of 4-digit NAICS industries (2361 - Residential building construction and 2362 - Non-residential building construction). The above example is top-down approach while down-top approach will be the smaller industries with 4-digit NAICS making up a 3-digit NAICS industry which in turn make a 2-digit NAICS industry. \n",
    "\n",
    "For more information can be found at https://www.statcan.gc.ca/eng/subjects/standard/naics/2017/index on the files and datasets used in the analysis."
   ]
  },
  {
   "cell_type": "markdown",
   "metadata": {},
   "source": [
    "### Description of the Datasets Used\n",
    "The file containing the datasets used in this time series analysis is obtained from https://wixlabs-file-sharing.appspot.com. The zipped files consist of 15 CSV files beginning with Real Time Remote Access (RTRA). These files contain employment data by industry at different level of aggregation; 2-digit NAICS, 3-digit NAICS, and 4-digit NAICS. The source of the data is from Real Time Remote Access (RTRA) data from the Labour Force Survey (LFS) by Statistics Canada. Below is the description of the column names as used in each dataset (CSV file):\n",
    "1. SYEAR: Survey Year\n",
    "2. SMTH: Survey Month\n",
    "3. NAICS: Industry name and associated NAICS code in the bracket\n",
    "4. _EMPLOYMENT_: Number of Employment offered in the industry aggregate \n",
    "\n",
    "Each level of aggregation (i.e.2-digit NAICS, 3-digit NAICS, and 4-digit NAICS) has survey data from 1997 to 2020 segregated into 1997-1999, 2000-2005, 2006-2010, 2011-2015 and 2016-2020 with 2020 data yet not available during the time of this analysis."
   ]
  },
  {
   "cell_type": "markdown",
   "metadata": {},
   "source": [
    "### DATASET IMPORT AND MERGING (I.E. CONCATENATING) "
   ]
  },
  {
   "cell_type": "markdown",
   "metadata": {},
   "source": [
    "As stated earlier, since the data is a survey data, it is segregated into some year ranges for each aggregation level, therefore, each aggregate level data is import and concatenate together into one dataframe for the exploratory data analysis (EDA). "
   ]
  },
  {
   "cell_type": "code",
   "execution_count": 1,
   "metadata": {},
   "outputs": [],
   "source": [
    "#import the necessary packages\n",
    "#import pandas for data manipulation and wrangling using its DataFrame\n",
    "import pandas as pd \n",
    "#import numpy for mathematical data modeling\n",
    "import numpy as np\n",
    "#import glob for filename pattern matching\n",
    "from glob import glob\n",
    "#import matplotlib for data visualization\n",
    "import matplotlib.pyplot as plt\n",
    "#import seaborn for data visualization\n",
    "import seaborn as sns\n",
    "%matplotlib inline\n",
    "\n",
    "#Set the style of the Seaborn Diagrams\n",
    "sns.set(style=\"darkgrid\")\n",
    "\n",
    "#Enarge the size of graphs in the Notebook\n",
    "fig_size = plt.rcParams[\"figure.figsize\"]\n",
    "fig_size[0] = 8\n",
    "fig_size[1] = 6\n",
    "plt.rcParams[\"figure.figsize\"] = fig_size"
   ]
  },
  {
   "cell_type": "code",
   "execution_count": 2,
   "metadata": {},
   "outputs": [],
   "source": [
    "# Save all the files into their respective variable\n",
    "# Save all files with 2 NAICS code to a varaible\n",
    "filename_2NAICS = glob(\"A_NEWLY_HIRED_DATA_ANALYST/RTRA_Employ_2NAICS_*.csv\") \n",
    "# Read 2 NAICS code files into varaible\n",
    "list_2NAICS = [pd.read_csv(file,dtype={\"SYEAR\":str,\"SMTH\":str}) for file in filename_2NAICS] \n",
    "\n",
    "# Save all files with 3 NAICS code to a varaible\n",
    "filename_3NAICS = glob(\"A_NEWLY_HIRED_DATA_ANALYST/RTRA_Employ_3NAICS_*.csv\")\n",
    "# Read 3 NAICS code files into varaible\n",
    "list_3NAICS = [pd.read_csv(file,dtype={\"SYEAR\":str,\"SMTH\":str}) for file in filename_3NAICS] \n",
    "\n",
    "# Save all files with 4 NAICS code to a varaible\n",
    "filename_4NAICS = glob(\"A_NEWLY_HIRED_DATA_ANALYST/RTRA_Employ_4NAICS_*.csv\") \n",
    "# Read 4 NAICS code files into varaible\n",
    "list_4NAICS = [pd.read_csv(file,dtype={\"SYEAR\":str,\"SMTH\":str}) for file in filename_4NAICS] "
   ]
  },
  {
   "cell_type": "markdown",
   "metadata": {},
   "source": [
    "First, each aggregate level data is saved to a file using the glob package which allows for filename pattern matching using various wildcards. It came handy in this case with less code for readability and understanding. Then list comprehension is used to read each CSV file into a list of dataframes for each aggregate level. The datatypes of the \"SYEAR\" and \"SMTH\" columns are converted to object (i.e. string)\n",
    "\n",
    "For convenience, code maintenance and reusability, a function is used to concatenate the list of dataframes into a single dataframe for the EDA."
   ]
  },
  {
   "cell_type": "markdown",
   "metadata": {},
   "source": [
    "###### DEFINITIONS OF SOME FUNCTIONS USED"
   ]
  },
  {
   "cell_type": "code",
   "execution_count": 3,
   "metadata": {},
   "outputs": [],
   "source": [
    "def combine_dataframes(list_of_DataFrames):\n",
    "    \"\"\"Convert list of DataFrames into a single DataFrame, and add the month \n",
    "        ending day and a date columns. Set the added date column as the index\n",
    "        and sort.\n",
    "    Args:\n",
    "        list of DataFrames to be converted.\n",
    "        \n",
    "    Return:\n",
    "        A single sorted DataFrame with month end day column and a DATE index added\n",
    "    \"\"\"\n",
    "    #Concatenate the list of DataFrames into a single DataFrame\n",
    "    converted_df = pd.concat(list_of_DataFrames,ignore_index=True)\n",
    "    #Dictionary with the month as the key and last day of the month as value\n",
    "    days = {\"1\":\"31\",\"2\":\"28\",\"3\":\"31\",\"4\":\"30\",\"5\":\"31\",\"6\":\"30\",\"7\":\"31\",\"8\":\"31\"\\\n",
    "            ,\"9\":\"30\",\"10\":\"31\",\"11\":\"30\",\"12\":\"31\"}\n",
    "    day = []\n",
    "    #Iterating through the Dataframe and appending DAY and DATE columns to it, taking  \n",
    "    #into acoount the last of the month especially leap years\n",
    "    for i in range(len(converted_df)):\n",
    "        #Save the month column to a variable\n",
    "        month = converted_df.loc[i,\"SMTH\"]\n",
    "        #Save the year column to a variable\n",
    "        year = converted_df.loc[i,\"SYEAR\"]\n",
    "        #If the current year is a leap year and the month is February (\"2\")\n",
    "        if (year ==\"2000\" or year ==\"2004\" or year ==\"2008\" or year ==\"2012\"\\\n",
    "            or year ==\"2016\" or year ==\"2020\") and month is \"2\":\n",
    "            #Assign the value '29' to the _day variable for leap year of the month February\n",
    "            _day = \"29\"\n",
    "        else:\n",
    "            #Assign the value '28' to the _day variable for non-leap year of the month February\n",
    "            _day = days[month]\n",
    "        #Append the variable '_day' to the list variable day\n",
    "        day.append(_day)\n",
    "    #The list variable is broadcast to the DAY column created for the DataFrame\n",
    "    converted_df[\"DAY\"] = day\n",
    "    #New column is added to the DataFrame which consists of the last day of the month, month and year\n",
    "    converted_df[\"DATE\"] = converted_df.DAY + \"-\" + converted_df.SMTH + \"-\" + converted_df.SYEAR\n",
    "    #The 'DATE' column is converted to datetime object for time series analysis\n",
    "    converted_df[\"DATE\"] = pd.to_datetime(converted_df[\"DATE\"])\n",
    "    #The 'DATE' column is set as the index of the DataFrame for convienence\n",
    "    converted_df=converted_df.set_index('DATE')\n",
    "    #Sort the index in ascending order to start from 1997 to 2019\n",
    "    converted_df = converted_df.sort_index()\n",
    "    #converted_sorted_df = converted_df.sort_values(by='DATE').reset_index(drop=True)\n",
    "    return converted_df\n",
    "\n",
    "def split_NAICS(dataframe):\n",
    "    \"\"\" Convert the NAICS column of the DataFrame into two columns: NAICS name and NAICS code \n",
    "    Args:\n",
    "        DataFrame to have its 'NAICS' columns split.\n",
    "        \n",
    "    Return:\n",
    "        DataFrame with 'NAICS' column dropped and two new columns added (i.e. 'NAICS_code' and 'NAICS_name')\n",
    "        obtained from splitting the code from the NAICS names\n",
    "    \"\"\"\n",
    "    #Split on '[' and save to a new column 'splitted_NAICS'\n",
    "    dataframe['splitted_NAICS'] = dataframe.NAICS.str.split('[')\n",
    "    #Save the first element in the list to a variable as the 'NAICS_name' and add it as a new column\n",
    "    dataframe['NAICS_name'] = dataframe['splitted_NAICS'].str.get(0)\n",
    "    #Strip off the ']' from the second element of the list and save to a column in the DataFrame as 'NAICS_code'\n",
    "    dataframe['NAICS_code'] = dataframe['splitted_NAICS'].str.get(1).str.strip(']')\n",
    "    #Drop the 'splitted_NAICS' column created and the NAICS column along\n",
    "    dataframe.drop(['splitted_NAICS','NAICS'],axis=1,inplace=True)\n",
    "    return dataframe"
   ]
  },
  {
   "cell_type": "code",
   "execution_count": 4,
   "metadata": {},
   "outputs": [
    {
     "data": {
      "text/html": [
       "<div>\n",
       "<style scoped>\n",
       "    .dataframe tbody tr th:only-of-type {\n",
       "        vertical-align: middle;\n",
       "    }\n",
       "\n",
       "    .dataframe tbody tr th {\n",
       "        vertical-align: top;\n",
       "    }\n",
       "\n",
       "    .dataframe thead th {\n",
       "        text-align: right;\n",
       "    }\n",
       "</style>\n",
       "<table border=\"1\" class=\"dataframe\">\n",
       "  <thead>\n",
       "    <tr style=\"text-align: right;\">\n",
       "      <th></th>\n",
       "      <th>SYEAR</th>\n",
       "      <th>SMTH</th>\n",
       "      <th>_EMPLOYMENT_</th>\n",
       "      <th>DAY</th>\n",
       "      <th>NAICS_name</th>\n",
       "      <th>NAICS_code</th>\n",
       "    </tr>\n",
       "    <tr>\n",
       "      <th>DATE</th>\n",
       "      <th></th>\n",
       "      <th></th>\n",
       "      <th></th>\n",
       "      <th></th>\n",
       "      <th></th>\n",
       "      <th></th>\n",
       "    </tr>\n",
       "  </thead>\n",
       "  <tbody>\n",
       "    <tr>\n",
       "      <th>1997-01-31</th>\n",
       "      <td>1997</td>\n",
       "      <td>1</td>\n",
       "      <td>72000</td>\n",
       "      <td>31</td>\n",
       "      <td>Wholesale trade</td>\n",
       "      <td>41</td>\n",
       "    </tr>\n",
       "    <tr>\n",
       "      <th>1997-01-31</th>\n",
       "      <td>1997</td>\n",
       "      <td>1</td>\n",
       "      <td>9750</td>\n",
       "      <td>31</td>\n",
       "      <td>Utilities</td>\n",
       "      <td>22</td>\n",
       "    </tr>\n",
       "    <tr>\n",
       "      <th>1997-01-31</th>\n",
       "      <td>1997</td>\n",
       "      <td>1</td>\n",
       "      <td>107000</td>\n",
       "      <td>31</td>\n",
       "      <td>Transportation and warehousing</td>\n",
       "      <td>48-49</td>\n",
       "    </tr>\n",
       "  </tbody>\n",
       "</table>\n",
       "</div>"
      ],
      "text/plain": [
       "           SYEAR SMTH  _EMPLOYMENT_ DAY                       NAICS_name  \\\n",
       "DATE                                                                       \n",
       "1997-01-31  1997    1         72000  31                Wholesale trade     \n",
       "1997-01-31  1997    1          9750  31                       Utilities    \n",
       "1997-01-31  1997    1        107000  31  Transportation and warehousing    \n",
       "\n",
       "           NAICS_code  \n",
       "DATE                   \n",
       "1997-01-31         41  \n",
       "1997-01-31         22  \n",
       "1997-01-31      48-49  "
      ]
     },
     "metadata": {},
     "output_type": "display_data"
    },
    {
     "data": {
      "text/html": [
       "<div>\n",
       "<style scoped>\n",
       "    .dataframe tbody tr th:only-of-type {\n",
       "        vertical-align: middle;\n",
       "    }\n",
       "\n",
       "    .dataframe tbody tr th {\n",
       "        vertical-align: top;\n",
       "    }\n",
       "\n",
       "    .dataframe thead th {\n",
       "        text-align: right;\n",
       "    }\n",
       "</style>\n",
       "<table border=\"1\" class=\"dataframe\">\n",
       "  <thead>\n",
       "    <tr style=\"text-align: right;\">\n",
       "      <th></th>\n",
       "      <th>SYEAR</th>\n",
       "      <th>SMTH</th>\n",
       "      <th>_EMPLOYMENT_</th>\n",
       "      <th>DAY</th>\n",
       "      <th>NAICS_name</th>\n",
       "      <th>NAICS_code</th>\n",
       "    </tr>\n",
       "    <tr>\n",
       "      <th>DATE</th>\n",
       "      <th></th>\n",
       "      <th></th>\n",
       "      <th></th>\n",
       "      <th></th>\n",
       "      <th></th>\n",
       "      <th></th>\n",
       "    </tr>\n",
       "  </thead>\n",
       "  <tbody>\n",
       "    <tr>\n",
       "      <th>1997-01-31</th>\n",
       "      <td>1997</td>\n",
       "      <td>1</td>\n",
       "      <td>48000</td>\n",
       "      <td>31</td>\n",
       "      <td>Wood product manufacturing</td>\n",
       "      <td>321</td>\n",
       "    </tr>\n",
       "    <tr>\n",
       "      <th>1997-01-31</th>\n",
       "      <td>1997</td>\n",
       "      <td>1</td>\n",
       "      <td>9750</td>\n",
       "      <td>31</td>\n",
       "      <td>Private households</td>\n",
       "      <td>814</td>\n",
       "    </tr>\n",
       "    <tr>\n",
       "      <th>1997-01-31</th>\n",
       "      <td>1997</td>\n",
       "      <td>1</td>\n",
       "      <td>10750</td>\n",
       "      <td>31</td>\n",
       "      <td>Printing and related support activities</td>\n",
       "      <td>323</td>\n",
       "    </tr>\n",
       "  </tbody>\n",
       "</table>\n",
       "</div>"
      ],
      "text/plain": [
       "           SYEAR SMTH  _EMPLOYMENT_ DAY  \\\n",
       "DATE                                      \n",
       "1997-01-31  1997    1         48000  31   \n",
       "1997-01-31  1997    1          9750  31   \n",
       "1997-01-31  1997    1         10750  31   \n",
       "\n",
       "                                         NAICS_name NAICS_code  \n",
       "DATE                                                            \n",
       "1997-01-31               Wood product manufacturing        321  \n",
       "1997-01-31                       Private households        814  \n",
       "1997-01-31  Printing and related support activities        323  "
      ]
     },
     "metadata": {},
     "output_type": "display_data"
    },
    {
     "data": {
      "text/html": [
       "<div>\n",
       "<style scoped>\n",
       "    .dataframe tbody tr th:only-of-type {\n",
       "        vertical-align: middle;\n",
       "    }\n",
       "\n",
       "    .dataframe tbody tr th {\n",
       "        vertical-align: top;\n",
       "    }\n",
       "\n",
       "    .dataframe thead th {\n",
       "        text-align: right;\n",
       "    }\n",
       "</style>\n",
       "<table border=\"1\" class=\"dataframe\">\n",
       "  <thead>\n",
       "    <tr style=\"text-align: right;\">\n",
       "      <th></th>\n",
       "      <th>SYEAR</th>\n",
       "      <th>SMTH</th>\n",
       "      <th>NAICS</th>\n",
       "      <th>_EMPLOYMENT_</th>\n",
       "      <th>DAY</th>\n",
       "    </tr>\n",
       "    <tr>\n",
       "      <th>DATE</th>\n",
       "      <th></th>\n",
       "      <th></th>\n",
       "      <th></th>\n",
       "      <th></th>\n",
       "      <th></th>\n",
       "    </tr>\n",
       "  </thead>\n",
       "  <tbody>\n",
       "    <tr>\n",
       "      <th>1997-01-31</th>\n",
       "      <td>1997</td>\n",
       "      <td>1</td>\n",
       "      <td>9191</td>\n",
       "      <td>0</td>\n",
       "      <td>31</td>\n",
       "    </tr>\n",
       "    <tr>\n",
       "      <th>1997-01-31</th>\n",
       "      <td>1997</td>\n",
       "      <td>1</td>\n",
       "      <td>5171</td>\n",
       "      <td>11000</td>\n",
       "      <td>31</td>\n",
       "    </tr>\n",
       "    <tr>\n",
       "      <th>1997-01-31</th>\n",
       "      <td>1997</td>\n",
       "      <td>1</td>\n",
       "      <td>5151</td>\n",
       "      <td>4750</td>\n",
       "      <td>31</td>\n",
       "    </tr>\n",
       "  </tbody>\n",
       "</table>\n",
       "</div>"
      ],
      "text/plain": [
       "           SYEAR SMTH  NAICS  _EMPLOYMENT_ DAY\n",
       "DATE                                          \n",
       "1997-01-31  1997    1   9191             0  31\n",
       "1997-01-31  1997    1   5171         11000  31\n",
       "1997-01-31  1997    1   5151          4750  31"
      ]
     },
     "metadata": {},
     "output_type": "display_data"
    }
   ],
   "source": [
    "\"\"\"The function definitions are used to achieve what they were defined for\"\"\"\n",
    "#Read all dataframes of each NAICS code into a single DataFrame\n",
    "naics_2_code_employ_data = combine_dataframes(list_2NAICS)\n",
    "naics_3_code_employ_data = combine_dataframes(list_3NAICS)\n",
    "naics_4_code_employ_data = combine_dataframes(list_4NAICS)\n",
    "\n",
    "#Split the NAICS column of the combined DataFrame into NAICS name and their respective codes.\n",
    "naics_2_code_employ_data = split_NAICS(naics_2_code_employ_data)\n",
    "naics_3_code_employ_data = split_NAICS(naics_3_code_employ_data)\n",
    "#Display the a few rows of each aggregate level\n",
    "display(naics_2_code_employ_data.head(3),naics_3_code_employ_data.head(3),naics_4_code_employ_data.head(3))"
   ]
  },
  {
   "cell_type": "markdown",
   "metadata": {},
   "source": [
    "### EXPLORATORY DATA ANALYSIS"
   ]
  },
  {
   "cell_type": "markdown",
   "metadata": {},
   "source": [
    "The 'NAICS' column in the \"naics_4_employ_data\" is inconsistent with the column names of the other dataframes, therefore it will be renamed for consistency."
   ]
  },
  {
   "cell_type": "code",
   "execution_count": 5,
   "metadata": {},
   "outputs": [
    {
     "name": "stdout",
     "output_type": "stream",
     "text": [
      "Index(['SYEAR', 'SMTH', 'NAICS_code', '_EMPLOYMENT_', 'DAY'], dtype='object')\n"
     ]
    }
   ],
   "source": [
    "#Change the 'NAICS' column of the 4NAICS to NAICS_code for consistency\n",
    "naics_4_code_employ_data = naics_4_code_employ_data.rename(columns={\"NAICS\":\"NAICS_code\"})\n",
    "print(naics_4_code_employ_data.columns)"
   ]
  },
  {
   "cell_type": "code",
   "execution_count": 6,
   "metadata": {},
   "outputs": [
    {
     "data": {
      "text/plain": [
       "SYEAR           0\n",
       "SMTH            0\n",
       "_EMPLOYMENT_    0\n",
       "DAY             0\n",
       "NAICS_name      0\n",
       "NAICS_code      0\n",
       "dtype: int64"
      ]
     },
     "execution_count": 6,
     "metadata": {},
     "output_type": "execute_result"
    }
   ],
   "source": [
    "#Check for missing values in the 2-digit NAICS data\n",
    "naics_2_code_employ_data.isna().sum()"
   ]
  },
  {
   "cell_type": "code",
   "execution_count": 7,
   "metadata": {},
   "outputs": [
    {
     "data": {
      "text/plain": [
       "SYEAR           0\n",
       "SMTH            0\n",
       "NAICS_code      0\n",
       "_EMPLOYMENT_    0\n",
       "DAY             0\n",
       "dtype: int64"
      ]
     },
     "execution_count": 7,
     "metadata": {},
     "output_type": "execute_result"
    }
   ],
   "source": [
    "#Check for missing values in the 4-digit NAICS data\n",
    "naics_4_code_employ_data.isna().sum()"
   ]
  },
  {
   "cell_type": "code",
   "execution_count": 8,
   "metadata": {},
   "outputs": [
    {
     "data": {
      "text/plain": [
       "SYEAR             0\n",
       "SMTH              0\n",
       "_EMPLOYMENT_      0\n",
       "DAY               0\n",
       "NAICS_name        0\n",
       "NAICS_code      552\n",
       "dtype: int64"
      ]
     },
     "execution_count": 8,
     "metadata": {},
     "output_type": "execute_result"
    }
   ],
   "source": [
    "#Check for missing values in the 3-digit NAICS data\n",
    "naics_3_code_employ_data.isna().sum()"
   ]
  },
  {
   "cell_type": "markdown",
   "metadata": {},
   "source": [
    "The output above showed 552 entries with NaN (i.e. missing values) for the NAICS_code column of the NAICS_3_code data. Therefore, further analysis on the data would reveal the course of the missing value."
   ]
  },
  {
   "cell_type": "code",
   "execution_count": 9,
   "metadata": {},
   "outputs": [
    {
     "data": {
      "text/html": [
       "<div>\n",
       "<style scoped>\n",
       "    .dataframe tbody tr th:only-of-type {\n",
       "        vertical-align: middle;\n",
       "    }\n",
       "\n",
       "    .dataframe tbody tr th {\n",
       "        vertical-align: top;\n",
       "    }\n",
       "\n",
       "    .dataframe thead th {\n",
       "        text-align: right;\n",
       "    }\n",
       "</style>\n",
       "<table border=\"1\" class=\"dataframe\">\n",
       "  <thead>\n",
       "    <tr style=\"text-align: right;\">\n",
       "      <th></th>\n",
       "      <th>SYEAR</th>\n",
       "      <th>SMTH</th>\n",
       "      <th>_EMPLOYMENT_</th>\n",
       "      <th>DAY</th>\n",
       "      <th>NAICS_name</th>\n",
       "      <th>NAICS_code</th>\n",
       "    </tr>\n",
       "    <tr>\n",
       "      <th>DATE</th>\n",
       "      <th></th>\n",
       "      <th></th>\n",
       "      <th></th>\n",
       "      <th></th>\n",
       "      <th></th>\n",
       "      <th></th>\n",
       "    </tr>\n",
       "  </thead>\n",
       "  <tbody>\n",
       "    <tr>\n",
       "      <th>1997-01-31</th>\n",
       "      <td>1997</td>\n",
       "      <td>1</td>\n",
       "      <td>5000</td>\n",
       "      <td>31</td>\n",
       "      <td>Other</td>\n",
       "      <td>NaN</td>\n",
       "    </tr>\n",
       "    <tr>\n",
       "      <th>1997-01-31</th>\n",
       "      <td>1997</td>\n",
       "      <td>1</td>\n",
       "      <td>11000</td>\n",
       "      <td>31</td>\n",
       "      <td>Securities, commodity contracts, and other fin...</td>\n",
       "      <td>NaN</td>\n",
       "    </tr>\n",
       "    <tr>\n",
       "      <th>1997-02-28</th>\n",
       "      <td>1997</td>\n",
       "      <td>2</td>\n",
       "      <td>3500</td>\n",
       "      <td>28</td>\n",
       "      <td>Other</td>\n",
       "      <td>NaN</td>\n",
       "    </tr>\n",
       "    <tr>\n",
       "      <th>1997-02-28</th>\n",
       "      <td>1997</td>\n",
       "      <td>2</td>\n",
       "      <td>7250</td>\n",
       "      <td>28</td>\n",
       "      <td>Securities, commodity contracts, and other fin...</td>\n",
       "      <td>NaN</td>\n",
       "    </tr>\n",
       "    <tr>\n",
       "      <th>1997-03-31</th>\n",
       "      <td>1997</td>\n",
       "      <td>3</td>\n",
       "      <td>3500</td>\n",
       "      <td>31</td>\n",
       "      <td>Other</td>\n",
       "      <td>NaN</td>\n",
       "    </tr>\n",
       "  </tbody>\n",
       "</table>\n",
       "</div>"
      ],
      "text/plain": [
       "           SYEAR SMTH  _EMPLOYMENT_ DAY  \\\n",
       "DATE                                      \n",
       "1997-01-31  1997    1          5000  31   \n",
       "1997-01-31  1997    1         11000  31   \n",
       "1997-02-28  1997    2          3500  28   \n",
       "1997-02-28  1997    2          7250  28   \n",
       "1997-03-31  1997    3          3500  31   \n",
       "\n",
       "                                                   NAICS_name NAICS_code  \n",
       "DATE                                                                      \n",
       "1997-01-31                                              Other        NaN  \n",
       "1997-01-31  Securities, commodity contracts, and other fin...        NaN  \n",
       "1997-02-28                                              Other        NaN  \n",
       "1997-02-28  Securities, commodity contracts, and other fin...        NaN  \n",
       "1997-03-31                                              Other        NaN  "
      ]
     },
     "metadata": {},
     "output_type": "display_data"
    }
   ],
   "source": [
    "#Check which NAICS is having null or missing values for NAICS_code\n",
    "display(naics_3_code_employ_data[naics_3_code_employ_data.NAICS_code.isnull()].head())"
   ]
  },
  {
   "cell_type": "markdown",
   "metadata": {},
   "source": [
    "It is evident that \"Securities, commodity contracts, and other fin\" and \"Other\" NAICS do not have associated NAICS codes. Therefore, there is the need to resolve them. From the booklet, North American Industry Classification System (NAICS) Canada\n",
    "2017 Version 1.0 (pdf) which can be obtained at https://www.statcan.gc.ca/eng/subjects/standard/naics/2017/index, specify the 3-digit NAICS of \"Securities, commodity contracts, and other financial investment and related acti\" as 523, however there is no specify 3-digit NAICS for \"Other\"."
   ]
  },
  {
   "cell_type": "code",
   "execution_count": 10,
   "metadata": {},
   "outputs": [
    {
     "data": {
      "text/html": [
       "<div>\n",
       "<style scoped>\n",
       "    .dataframe tbody tr th:only-of-type {\n",
       "        vertical-align: middle;\n",
       "    }\n",
       "\n",
       "    .dataframe tbody tr th {\n",
       "        vertical-align: top;\n",
       "    }\n",
       "\n",
       "    .dataframe thead th {\n",
       "        text-align: right;\n",
       "    }\n",
       "</style>\n",
       "<table border=\"1\" class=\"dataframe\">\n",
       "  <thead>\n",
       "    <tr style=\"text-align: right;\">\n",
       "      <th></th>\n",
       "      <th>SYEAR</th>\n",
       "      <th>SMTH</th>\n",
       "      <th>_EMPLOYMENT_</th>\n",
       "      <th>DAY</th>\n",
       "      <th>NAICS_name</th>\n",
       "      <th>NAICS_code</th>\n",
       "    </tr>\n",
       "    <tr>\n",
       "      <th>DATE</th>\n",
       "      <th></th>\n",
       "      <th></th>\n",
       "      <th></th>\n",
       "      <th></th>\n",
       "      <th></th>\n",
       "      <th></th>\n",
       "    </tr>\n",
       "  </thead>\n",
       "  <tbody>\n",
       "  </tbody>\n",
       "</table>\n",
       "</div>"
      ],
      "text/plain": [
       "Empty DataFrame\n",
       "Columns: [SYEAR, SMTH, _EMPLOYMENT_, DAY, NAICS_name, NAICS_code]\n",
       "Index: []"
      ]
     },
     "execution_count": 10,
     "metadata": {},
     "output_type": "execute_result"
    }
   ],
   "source": [
    "naics_3_code_employ_data.loc[naics_3_code_employ_data.NAICS_code == \"999\"]"
   ]
  },
  {
   "cell_type": "markdown",
   "metadata": {},
   "source": [
    "The NAICS_code for the entries of \"Other\" would be assigned the value of 999 since there is no NAICS_name with such code."
   ]
  },
  {
   "cell_type": "code",
   "execution_count": 11,
   "metadata": {},
   "outputs": [
    {
     "data": {
      "text/plain": [
       "SYEAR           0\n",
       "SMTH            0\n",
       "_EMPLOYMENT_    0\n",
       "DAY             0\n",
       "NAICS_name      0\n",
       "NAICS_code      0\n",
       "dtype: int64"
      ]
     },
     "execution_count": 11,
     "metadata": {},
     "output_type": "execute_result"
    }
   ],
   "source": [
    "#Fill the missing NAICS_code for \"Securities, commodity contracts, and other financial investment and related acti\"\n",
    "naics_3_code_employ_data.loc[naics_3_code_employ_data.NAICS_name == \"Securities, commodity contracts, and other financial investment and related acti\", \"NAICS_code\"] = 523\n",
    "#FIll the missing NAICS_code for \"Other\"\n",
    "naics_3_code_employ_data.loc[naics_3_code_employ_data.NAICS_name == \"Other\", \"NAICS_code\"] = 999\n",
    "#Check for missing values in the 3-digit NAICS data\n",
    "naics_3_code_employ_data.isna().sum()"
   ]
  },
  {
   "cell_type": "code",
   "execution_count": 12,
   "metadata": {},
   "outputs": [
    {
     "name": "stdout",
     "output_type": "stream",
     "text": [
      "The 2-digit NAICS industry has 20 unique industries\n",
      "The 3-digit NAICS industry has 103 unique industries\n",
      "The 4-digit NAICS industry has 314 unique industries\n"
     ]
    }
   ],
   "source": [
    "#Save the number of unique industries in each aggregate level\n",
    "unique_industries_2NAICS = naics_2_code_employ_data.NAICS_name.nunique()\n",
    "print(\"The 2-digit NAICS industry has {} unique industries\".format(unique_industries_2NAICS))\n",
    "unique_industries_3NAICS = naics_3_code_employ_data.NAICS_name.nunique()\n",
    "print(\"The 3-digit NAICS industry has {} unique industries\".format(unique_industries_3NAICS))\n",
    "unique_industries_4NAICS = naics_4_code_employ_data.NAICS_code.nunique()\n",
    "print(\"The 4-digit NAICS industry has {} unique industries\".format(unique_industries_4NAICS))"
   ]
  },
  {
   "cell_type": "code",
   "execution_count": 13,
   "metadata": {},
   "outputs": [
    {
     "data": {
      "text/html": [
       "<div>\n",
       "<style scoped>\n",
       "    .dataframe tbody tr th:only-of-type {\n",
       "        vertical-align: middle;\n",
       "    }\n",
       "\n",
       "    .dataframe tbody tr th {\n",
       "        vertical-align: top;\n",
       "    }\n",
       "\n",
       "    .dataframe thead th {\n",
       "        text-align: right;\n",
       "    }\n",
       "</style>\n",
       "<table border=\"1\" class=\"dataframe\">\n",
       "  <thead>\n",
       "    <tr style=\"text-align: right;\">\n",
       "      <th></th>\n",
       "      <th>SYEAR</th>\n",
       "      <th>SMTH</th>\n",
       "      <th>NAICS_name</th>\n",
       "      <th>NAICS_code</th>\n",
       "      <th>_EMPLOYMENT_</th>\n",
       "    </tr>\n",
       "  </thead>\n",
       "  <tbody>\n",
       "    <tr>\n",
       "      <th>0</th>\n",
       "      <td>1997</td>\n",
       "      <td>1</td>\n",
       "      <td>Accommodation and food services</td>\n",
       "      <td>72</td>\n",
       "      <td>129250</td>\n",
       "    </tr>\n",
       "    <tr>\n",
       "      <th>1</th>\n",
       "      <td>1997</td>\n",
       "      <td>1</td>\n",
       "      <td>Administrative and support, waste management a...</td>\n",
       "      <td>56</td>\n",
       "      <td>58500</td>\n",
       "    </tr>\n",
       "    <tr>\n",
       "      <th>2</th>\n",
       "      <td>1997</td>\n",
       "      <td>1</td>\n",
       "      <td>Agriculture, forestry, fishing and hunting</td>\n",
       "      <td>11</td>\n",
       "      <td>62250</td>\n",
       "    </tr>\n",
       "    <tr>\n",
       "      <th>3</th>\n",
       "      <td>1997</td>\n",
       "      <td>1</td>\n",
       "      <td>Arts, entertainment and recreation</td>\n",
       "      <td>71</td>\n",
       "      <td>38750</td>\n",
       "    </tr>\n",
       "    <tr>\n",
       "      <th>4</th>\n",
       "      <td>1997</td>\n",
       "      <td>1</td>\n",
       "      <td>Construction</td>\n",
       "      <td>23</td>\n",
       "      <td>118000</td>\n",
       "    </tr>\n",
       "  </tbody>\n",
       "</table>\n",
       "</div>"
      ],
      "text/plain": [
       "  SYEAR SMTH                                         NAICS_name NAICS_code  \\\n",
       "0  1997    1                   Accommodation and food services          72   \n",
       "1  1997    1  Administrative and support, waste management a...         56   \n",
       "2  1997    1        Agriculture, forestry, fishing and hunting          11   \n",
       "3  1997    1                Arts, entertainment and recreation          71   \n",
       "4  1997    1                                      Construction          23   \n",
       "\n",
       "   _EMPLOYMENT_  \n",
       "0        129250  \n",
       "1         58500  \n",
       "2         62250  \n",
       "3         38750  \n",
       "4        118000  "
      ]
     },
     "execution_count": 13,
     "metadata": {},
     "output_type": "execute_result"
    }
   ],
   "source": [
    "#Aggregate the _EMPLOYMENT_ column through summation and grouping by the SYEAR, SMTH, NAICS_name\n",
    "#and NAICS_code for 2-digit NAICS industries\n",
    "naics2_by_year = naics_2_code_employ_data.groupby(['SYEAR','SMTH','NAICS_name','NAICS_code']).\\\n",
    "_EMPLOYMENT_.sum().reset_index()\n",
    "#Display the first five rows\n",
    "naics2_by_year.head()"
   ]
  },
  {
   "cell_type": "code",
   "execution_count": 14,
   "metadata": {},
   "outputs": [],
   "source": [
    "#Aggregate the _EMPLOYMENT_ column through summation and grouping by the SYEAR, SMTH, NAICS_name\n",
    "#and NAICS_code for 3-digit NAICS industries\n",
    "naics3_by_year = naics_3_code_employ_data.groupby(['SYEAR','SMTH','NAICS_name','NAICS_code']).\\\n",
    "_EMPLOYMENT_.sum().reset_index()\n",
    "#Display the first five rows\n",
    "saving_naics_3 = naics3_by_year.sort_values(by=[\"SMTH\",\"SYEAR\"],ascending=True)\n",
    "#saving_naics_3.drop(\"NAICS_code\",inplace=True,axis=1)\n",
    "saving_naics_3.to_excel(\"naics3_by_year.xlsx\",index=False)"
   ]
  },
  {
   "cell_type": "code",
   "execution_count": 15,
   "metadata": {},
   "outputs": [],
   "source": [
    "#List of months and years to display along the x-axis\n",
    "months=[\"January\",\"February\",\"March\",\"April\",\"May\",\"June\",\"July\",\"August\",\\\n",
    "        \"September\",\"October\",\"November\",\"December\"]\n",
    "years=[\"1997\",\"1998\",\"1999\",\"2000\",\"2001\",\"2002\",\"2003\",\"2004\",\\\n",
    "        \"2005\",\"2006\",\"2007\",\"2008\",\"2009\",\"2010\",\"2011\",\"2012\",\"2013\",\"2014\",\"2015\",\"2016\",\"2017\",\"2018\",\"2019\"]"
   ]
  },
  {
   "cell_type": "markdown",
   "metadata": {},
   "source": [
    "###### DEFINITIONS OF THE SECOND SET OF FUNCTIONS USED\n",
    "Purposely for datetime or time series selection, whether on monthly, specific months of a particular year, yearly or specific years."
   ]
  },
  {
   "cell_type": "code",
   "execution_count": 16,
   "metadata": {},
   "outputs": [],
   "source": [
    "def naics_data_specific_years(data,start_year,end_year):\n",
    "    \"\"\"Select data for specified years\n",
    "    Arg:    start_month - the year to start from\n",
    "            end_month - the year to end\n",
    "            data   - DataFrame to use\n",
    "    Return: Data of the specified years\n",
    "    \"\"\"\n",
    "    year = [i for i in years if i >= start_year and i<= end_year]\n",
    "    dataframe = data.loc[start_year:end_year].resample(\"A\").sum().reset_index()\n",
    "    return dataframe"
   ]
  },
  {
   "cell_type": "code",
   "execution_count": 17,
   "metadata": {},
   "outputs": [],
   "source": [
    "def naics_data_specific_months_year(data,start_month,end_month):\n",
    "    \"\"\"Select data from any month to another month of a specific year\n",
    "    Arg:    start_month - the month to start from\n",
    "            end_month - the month to end\n",
    "            data   - DataFrame to use\n",
    "    Return: Data of the specified months of the year\n",
    "    \"\"\"\n",
    "    month_dict = {\"01\":\"January\",\"02\":\"February\",\"03\":\"March\",\"04\":\"April\",\"05\":\"May\",\"06\":\"June\",\"07\":\"July\",\"08\":\"August\",\\\n",
    "        \"09\":\"September\",\"10\":\"October\",\"11\":\"November\",\"12\":\"December\"}\n",
    "    monthFrom = start_month[-2:]\n",
    "    monthTo = end_month[-2:]\n",
    "    year = start_month[:-3]\n",
    "    mth = [value for key,value in month_dict.items() if key >=monthFrom and key <=monthTo]\n",
    "    dataframe = data.loc[start_month:end_month].resample(\"M\").sum()\n",
    "    return dataframe"
   ]
  },
  {
   "cell_type": "code",
   "execution_count": 18,
   "metadata": {},
   "outputs": [
    {
     "data": {
      "text/html": [
       "<div>\n",
       "<style scoped>\n",
       "    .dataframe tbody tr th:only-of-type {\n",
       "        vertical-align: middle;\n",
       "    }\n",
       "\n",
       "    .dataframe tbody tr th {\n",
       "        vertical-align: top;\n",
       "    }\n",
       "\n",
       "    .dataframe thead th {\n",
       "        text-align: right;\n",
       "    }\n",
       "</style>\n",
       "<table border=\"1\" class=\"dataframe\">\n",
       "  <thead>\n",
       "    <tr style=\"text-align: right;\">\n",
       "      <th></th>\n",
       "      <th>_EMPLOYMENT_</th>\n",
       "    </tr>\n",
       "    <tr>\n",
       "      <th>DATE</th>\n",
       "      <th></th>\n",
       "    </tr>\n",
       "  </thead>\n",
       "  <tbody>\n",
       "    <tr>\n",
       "      <th>1997-01-31</th>\n",
       "      <td>1802250</td>\n",
       "    </tr>\n",
       "    <tr>\n",
       "      <th>1997-02-28</th>\n",
       "      <td>1808000</td>\n",
       "    </tr>\n",
       "    <tr>\n",
       "      <th>1997-03-31</th>\n",
       "      <td>1815250</td>\n",
       "    </tr>\n",
       "    <tr>\n",
       "      <th>1997-04-30</th>\n",
       "      <td>1827750</td>\n",
       "    </tr>\n",
       "    <tr>\n",
       "      <th>1997-05-31</th>\n",
       "      <td>1864750</td>\n",
       "    </tr>\n",
       "    <tr>\n",
       "      <th>1997-06-30</th>\n",
       "      <td>1886000</td>\n",
       "    </tr>\n",
       "    <tr>\n",
       "      <th>1997-07-31</th>\n",
       "      <td>1913500</td>\n",
       "    </tr>\n",
       "    <tr>\n",
       "      <th>1997-08-31</th>\n",
       "      <td>1919250</td>\n",
       "    </tr>\n",
       "    <tr>\n",
       "      <th>1997-09-30</th>\n",
       "      <td>1885750</td>\n",
       "    </tr>\n",
       "    <tr>\n",
       "      <th>1997-10-31</th>\n",
       "      <td>1875750</td>\n",
       "    </tr>\n",
       "    <tr>\n",
       "      <th>1997-11-30</th>\n",
       "      <td>1865500</td>\n",
       "    </tr>\n",
       "    <tr>\n",
       "      <th>1997-12-31</th>\n",
       "      <td>1854750</td>\n",
       "    </tr>\n",
       "  </tbody>\n",
       "</table>\n",
       "</div>"
      ],
      "text/plain": [
       "            _EMPLOYMENT_\n",
       "DATE                    \n",
       "1997-01-31       1802250\n",
       "1997-02-28       1808000\n",
       "1997-03-31       1815250\n",
       "1997-04-30       1827750\n",
       "1997-05-31       1864750\n",
       "1997-06-30       1886000\n",
       "1997-07-31       1913500\n",
       "1997-08-31       1919250\n",
       "1997-09-30       1885750\n",
       "1997-10-31       1875750\n",
       "1997-11-30       1865500\n",
       "1997-12-31       1854750"
      ]
     },
     "metadata": {},
     "output_type": "display_data"
    },
    {
     "data": {
      "text/html": [
       "<div>\n",
       "<style scoped>\n",
       "    .dataframe tbody tr th:only-of-type {\n",
       "        vertical-align: middle;\n",
       "    }\n",
       "\n",
       "    .dataframe tbody tr th {\n",
       "        vertical-align: top;\n",
       "    }\n",
       "\n",
       "    .dataframe thead th {\n",
       "        text-align: right;\n",
       "    }\n",
       "</style>\n",
       "<table border=\"1\" class=\"dataframe\">\n",
       "  <thead>\n",
       "    <tr style=\"text-align: right;\">\n",
       "      <th></th>\n",
       "      <th>DATE</th>\n",
       "      <th>_EMPLOYMENT_</th>\n",
       "    </tr>\n",
       "  </thead>\n",
       "  <tbody>\n",
       "    <tr>\n",
       "      <th>0</th>\n",
       "      <td>2010-12-31</td>\n",
       "      <td>26676750</td>\n",
       "    </tr>\n",
       "    <tr>\n",
       "      <th>1</th>\n",
       "      <td>2011-12-31</td>\n",
       "      <td>26733500</td>\n",
       "    </tr>\n",
       "    <tr>\n",
       "      <th>2</th>\n",
       "      <td>2012-12-31</td>\n",
       "      <td>27149750</td>\n",
       "    </tr>\n",
       "    <tr>\n",
       "      <th>3</th>\n",
       "      <td>2013-12-31</td>\n",
       "      <td>27187000</td>\n",
       "    </tr>\n",
       "    <tr>\n",
       "      <th>4</th>\n",
       "      <td>2014-12-31</td>\n",
       "      <td>27341250</td>\n",
       "    </tr>\n",
       "    <tr>\n",
       "      <th>5</th>\n",
       "      <td>2015-12-31</td>\n",
       "      <td>27674500</td>\n",
       "    </tr>\n",
       "    <tr>\n",
       "      <th>6</th>\n",
       "      <td>2016-12-31</td>\n",
       "      <td>28554250</td>\n",
       "    </tr>\n",
       "    <tr>\n",
       "      <th>7</th>\n",
       "      <td>2017-12-31</td>\n",
       "      <td>29601250</td>\n",
       "    </tr>\n",
       "    <tr>\n",
       "      <th>8</th>\n",
       "      <td>2018-12-31</td>\n",
       "      <td>29923000</td>\n",
       "    </tr>\n",
       "    <tr>\n",
       "      <th>9</th>\n",
       "      <td>2019-12-31</td>\n",
       "      <td>23057500</td>\n",
       "    </tr>\n",
       "  </tbody>\n",
       "</table>\n",
       "</div>"
      ],
      "text/plain": [
       "        DATE  _EMPLOYMENT_\n",
       "0 2010-12-31      26676750\n",
       "1 2011-12-31      26733500\n",
       "2 2012-12-31      27149750\n",
       "3 2013-12-31      27187000\n",
       "4 2014-12-31      27341250\n",
       "5 2015-12-31      27674500\n",
       "6 2016-12-31      28554250\n",
       "7 2017-12-31      29601250\n",
       "8 2018-12-31      29923000\n",
       "9 2019-12-31      23057500"
      ]
     },
     "execution_count": 18,
     "metadata": {},
     "output_type": "execute_result"
    }
   ],
   "source": [
    "#Aggregate the sum of  _EMPLOYMENT_ column for 1997 monthly\n",
    "display(naics_data_specific_months_year(naics_3_code_employ_data,\"1997-01\",\"1997-12\"))\n",
    "#Aggregate the sum of  _EMPLOYMENT_ column for yearly from 2010 to 2019\n",
    "naics_data_specific_years(naics_3_code_employ_data,\"2010\",\"2019\")"
   ]
  },
  {
   "cell_type": "markdown",
   "metadata": {},
   "source": [
    "###### FUNCTION DEFINITION FOR PLOTTING\n",
    "Function Definition for Plotting Scatterplot and Bar Chart for specific months of a particular year, specific years within the entire period and compare the trend between specific months of two different years"
   ]
  },
  {
   "cell_type": "code",
   "execution_count": 19,
   "metadata": {},
   "outputs": [],
   "source": [
    "def plot_naics_per_month_by_scatterplot(data,start_month,end_month):\n",
    "    \"\"\"Plot a Seaborn scatterplot from any month to another month of a specific year\n",
    "    Arg:    start_month - the month to start from\n",
    "            end_month - the month to end\n",
    "            data   - DataFrame to use\n",
    "    Return: Seaborn scatterplot\n",
    "    \"\"\"\n",
    "    month_dict = {\"01\":\"January\",\"02\":\"February\",\"03\":\"March\",\"04\":\"April\",\"05\":\"May\",\"06\":\"June\",\"07\":\"July\",\"08\":\"August\",\\\n",
    "        \"09\":\"September\",\"10\":\"October\",\"11\":\"November\",\"12\":\"December\"}\n",
    "    monthFrom = start_month[-2:]\n",
    "    monthTo = end_month[-2:]\n",
    "    year = start_month[:-3]\n",
    "    mth = [value for key,value in month_dict.items() if key >=monthFrom and key <=monthTo]\n",
    "    sns.scatterplot(x=mth,y=\"_EMPLOYMENT_\", data=data)\n",
    "    plt.title(\"Total number of employment from {} to {} of {}\".format(mth[0],mth[-1],year))\n",
    "    plt.ylabel(\"Total number of employment\")\n",
    "    plt.xlabel(\"Months\")\n",
    "    plt.xticks(range(len(mth)),mth,rotation=60)\n",
    "    plt.show()"
   ]
  },
  {
   "cell_type": "code",
   "execution_count": 20,
   "metadata": {},
   "outputs": [],
   "source": [
    "def plot_naics_per_month_by_barplot(data,start_month,end_month):\n",
    "    \"\"\"Plot a Seaborn scatterplot\n",
    "    Arg:    year to plot its monthly employment\n",
    "            data   - DataFrame to use\n",
    "    Return: Seaborn scatterplot\n",
    "    \"\"\"\n",
    "    month_dict = {\"01\":\"January\",\"02\":\"February\",\"03\":\"March\",\"04\":\"April\",\"05\":\"May\",\"06\":\"June\",\"07\":\"July\",\"08\":\"August\",\\\n",
    "        \"09\":\"September\",\"10\":\"October\",\"11\":\"November\",\"12\":\"December\"}\n",
    "    monthFrom = start_month[-2:]\n",
    "    monthTo = end_month[-2:]\n",
    "    year = start_month[:-3]\n",
    "    mth = [value for key,value in month_dict.items() if key >=monthFrom and key <=monthTo]\n",
    "    g = sns.barplot(x=mth,y=\"_EMPLOYMENT_\", data=data)\n",
    "    for index, row in data.iterrows():\n",
    "        g.text(row.name,row._EMPLOYMENT_, row._EMPLOYMENT_, color='black', ha=\"center\",rotation=90)\n",
    "    plt.title(\"Total number of employment from {} to {} of {}\".format(mth[0],mth[-1],year))\n",
    "    plt.ylabel(\"Total number of employment\")\n",
    "    plt.xlabel(\"Months\")\n",
    "    plt.xticks(range(len(mth)),mth,rotation=60)\n",
    "    plt.show()\n"
   ]
  },
  {
   "cell_type": "code",
   "execution_count": 21,
   "metadata": {},
   "outputs": [],
   "source": [
    "def compare_monthly_employ(data1,start_month,end_month,data2,start2_month,end2_month):\n",
    "    \"\"\"Create a lineplot for comparing employments between months for two different years\n",
    "    Arg:    start_month - the month to start from\n",
    "            end_month - the month to end\n",
    "            data   - DataFrame to use\n",
    "    Return: Seaborn scatterplot\n",
    "    \"\"\"\n",
    "    month_dict = {\"01\":\"January\",\"02\":\"February\",\"03\":\"March\",\"04\":\"April\",\"05\":\"May\",\"06\":\"June\",\"07\":\"July\",\"08\":\"August\",\\\n",
    "        \"09\":\"September\",\"10\":\"October\",\"11\":\"November\",\"12\":\"December\"}\n",
    "    monthFrom = start_month[-2:]\n",
    "    monthTo = end_month[-2:]\n",
    "    year1 = start_month[:-3]\n",
    "    year2 = start2_month[:-3]\n",
    "    mth = [value for key,value in month_dict.items() if key >=monthFrom and key <=monthTo]\n",
    "    sns.lineplot(x=mth,y=\"_EMPLOYMENT_\", data=data1,label=year1)\n",
    "    sns.lineplot(x=mth,y=\"_EMPLOYMENT_\", data=data2,label=year2)\n",
    "    plt.title(\"Total number of employment from {} to {} between {} and {}\".format(mth[0],mth[-1],year1,year2))\n",
    "    plt.ylabel(\"Total number of employment\")\n",
    "    plt.xlabel(\"Months\")\n",
    "    plt.xticks(range(len(mth)),mth,rotation=60)\n",
    "    plt.legend()\n",
    "    plt.show()"
   ]
  },
  {
   "cell_type": "code",
   "execution_count": 22,
   "metadata": {},
   "outputs": [],
   "source": [
    "def compare_yearly_employ(data1,start_year,end_year,data2,start_2nd_year,end_2nd_year):\n",
    "    \"\"\"Create a lineplot for comparing employments for two different years\n",
    "    Arg:    start_year - the start year of the first data\n",
    "            end_year - the end year of the first data\n",
    "            data1   - the first dataset\n",
    "            start_2nd_year - the start year of the second data which must be the same as the start-year of the first data\n",
    "            end_2nd_year - the end year of the second data which must be the same as the end-year of the first data\n",
    "            data2   - the second dataset\n",
    "    Return: Seaborn scatterplot\n",
    "    \"\"\"\n",
    "    year = [i for i in years if i >= start_year and i<= end_year]\n",
    "    sns.scatterplot(x=year,y=\"_EMPLOYMENT_\", data=data1,label=\"Construction industry\")\n",
    "    sns.scatterplot(x=year,y=\"_EMPLOYMENT_\", data=data2,label=\"All other industries\")\n",
    "    plt.title(\"Total number of employment from {} to {}\".format(start_year,end_year))\n",
    "    plt.ylabel(\"Total number of employment\")\n",
    "    plt.xlabel(\"Months\")\n",
    "    plt.xticks(range(len(year)),year,rotation=60)\n",
    "    plt.legend()\n",
    "    plt.show()"
   ]
  },
  {
   "cell_type": "code",
   "execution_count": 23,
   "metadata": {},
   "outputs": [],
   "source": [
    "def plot_naics_per_year_by_scatterplot(data,from_year,to_year):\n",
    "    \"\"\"Plot a Seaborn scatterplot\n",
    "    Arg:    from_year - starting year \n",
    "            to_year - ending year \n",
    "            data   - DataFrame to use\n",
    "    Return: Seaborn scatterplot\n",
    "    \"\"\"\n",
    "    year = [i for i in years if i >= from_year and i<= to_year]\n",
    "    sns.scatterplot(x=year,y=\"_EMPLOYMENT_\", data=data)\n",
    "    plt.title(\"Total number of employment per year from {} to {}\".format(from_year,to_year))\n",
    "    plt.ylabel(\"Total number of employment\")\n",
    "    plt.xlabel(\"Year\")\n",
    "    plt.xticks(range(len(year)),year,rotation=60)\n",
    "    plt.show()"
   ]
  },
  {
   "cell_type": "code",
   "execution_count": 24,
   "metadata": {},
   "outputs": [],
   "source": [
    "def plot_naics_per_year_by_barplot(data,from_year,to_year):\n",
    "    \"\"\"Plot a Seaborn scatterplot\n",
    "    Arg:    from_year - starting year \n",
    "            to_year - ending year \n",
    "            data   - DataFrame to use\n",
    "    Return: Seaborn scatterplot\n",
    "    \"\"\"\n",
    "    year = [i for i in years if i >= from_year and i<= to_year]\n",
    "    g = sns.barplot(x=year,y=\"_EMPLOYMENT_\", data=data)\n",
    "    for index, row in data.iterrows():\n",
    "        g.text(row.name,row._EMPLOYMENT_, row._EMPLOYMENT_, color='black', ha=\"center\",rotation=90)\n",
    "    plt.title(\"Total number of employment per year from {} to {}\".format(from_year,to_year))\n",
    "    plt.ylabel(\"Total number of employment\")\n",
    "    plt.xlabel(\"Year\")\n",
    "    plt.xticks(range(len(year)),year,rotation=90)\n",
    "    plt.show()"
   ]
  },
  {
   "cell_type": "markdown",
   "metadata": {},
   "source": [
    "### QUESTIONS DRIVING THE TIME SERIES ANALYSIS\n",
    "The following questions would drive the time series analysis of the data.\n",
    "1. How employment in Construction evolved overtime?\n",
    "2. How employment in Construction evolved over time, compared to the total\n",
    "   employment across all industries?\n",
    "3. How the total employment evolve overtime?\n",
    "4. What is the peak month (s) for employment overtime?\n",
    "5. What is the 2-digit NAICS industry employing most people?\n"
   ]
  },
  {
   "cell_type": "markdown",
   "metadata": {},
   "source": [
    "#### 1. HOW EMPLOYMENT IN CONSTRUCTION EVOLVED OVERTIME?"
   ]
  },
  {
   "cell_type": "markdown",
   "metadata": {},
   "source": [
    "The Construction industry is coded by the NAICS 2-digit code \"23\". Therefore the code is used to select all rows with NAICS_code as 23. The function below is used to perform such selection and accepts two arguments the data and the code to match and returns a DataFrame of the selected rows."
   ]
  },
  {
   "cell_type": "code",
   "execution_count": 25,
   "metadata": {
    "scrolled": true
   },
   "outputs": [],
   "source": [
    "def industry_by_code_select(data,code):\n",
    "    \"\"\"Select data from the specified data using the provided code\n",
    "    Arg:    code - NAICS code to use\n",
    "            data   - DataFrame to use\n",
    "    Return: Data of the specified code\n",
    "    \"\"\"\n",
    "    dataframe = data[data.NAICS_code==code]\n",
    "    return dataframe"
   ]
  },
  {
   "cell_type": "markdown",
   "metadata": {},
   "source": [
    "Few rows of the construction industry's employment is shown below."
   ]
  },
  {
   "cell_type": "code",
   "execution_count": 26,
   "metadata": {},
   "outputs": [
    {
     "data": {
      "text/html": [
       "<div>\n",
       "<style scoped>\n",
       "    .dataframe tbody tr th:only-of-type {\n",
       "        vertical-align: middle;\n",
       "    }\n",
       "\n",
       "    .dataframe tbody tr th {\n",
       "        vertical-align: top;\n",
       "    }\n",
       "\n",
       "    .dataframe thead th {\n",
       "        text-align: right;\n",
       "    }\n",
       "</style>\n",
       "<table border=\"1\" class=\"dataframe\">\n",
       "  <thead>\n",
       "    <tr style=\"text-align: right;\">\n",
       "      <th></th>\n",
       "      <th>SYEAR</th>\n",
       "      <th>SMTH</th>\n",
       "      <th>_EMPLOYMENT_</th>\n",
       "      <th>DAY</th>\n",
       "      <th>NAICS_name</th>\n",
       "      <th>NAICS_code</th>\n",
       "    </tr>\n",
       "    <tr>\n",
       "      <th>DATE</th>\n",
       "      <th></th>\n",
       "      <th></th>\n",
       "      <th></th>\n",
       "      <th></th>\n",
       "      <th></th>\n",
       "      <th></th>\n",
       "    </tr>\n",
       "  </thead>\n",
       "  <tbody>\n",
       "    <tr>\n",
       "      <th>1997-01-31</th>\n",
       "      <td>1997</td>\n",
       "      <td>1</td>\n",
       "      <td>118000</td>\n",
       "      <td>31</td>\n",
       "      <td>Construction</td>\n",
       "      <td>23</td>\n",
       "    </tr>\n",
       "    <tr>\n",
       "      <th>1997-02-28</th>\n",
       "      <td>1997</td>\n",
       "      <td>2</td>\n",
       "      <td>120000</td>\n",
       "      <td>28</td>\n",
       "      <td>Construction</td>\n",
       "      <td>23</td>\n",
       "    </tr>\n",
       "    <tr>\n",
       "      <th>1997-03-31</th>\n",
       "      <td>1997</td>\n",
       "      <td>3</td>\n",
       "      <td>116750</td>\n",
       "      <td>31</td>\n",
       "      <td>Construction</td>\n",
       "      <td>23</td>\n",
       "    </tr>\n",
       "    <tr>\n",
       "      <th>1997-04-30</th>\n",
       "      <td>1997</td>\n",
       "      <td>4</td>\n",
       "      <td>125500</td>\n",
       "      <td>30</td>\n",
       "      <td>Construction</td>\n",
       "      <td>23</td>\n",
       "    </tr>\n",
       "    <tr>\n",
       "      <th>1997-05-31</th>\n",
       "      <td>1997</td>\n",
       "      <td>5</td>\n",
       "      <td>123750</td>\n",
       "      <td>31</td>\n",
       "      <td>Construction</td>\n",
       "      <td>23</td>\n",
       "    </tr>\n",
       "  </tbody>\n",
       "</table>\n",
       "</div>"
      ],
      "text/plain": [
       "           SYEAR SMTH  _EMPLOYMENT_ DAY     NAICS_name NAICS_code\n",
       "DATE                                                             \n",
       "1997-01-31  1997    1        118000  31  Construction          23\n",
       "1997-02-28  1997    2        120000  28  Construction          23\n",
       "1997-03-31  1997    3        116750  31  Construction          23\n",
       "1997-04-30  1997    4        125500  30  Construction          23\n",
       "1997-05-31  1997    5        123750  31  Construction          23"
      ]
     },
     "metadata": {},
     "output_type": "display_data"
    },
    {
     "data": {
      "text/plain": [
       "(276, 6)"
      ]
     },
     "metadata": {},
     "output_type": "display_data"
    }
   ],
   "source": [
    "construction_industry_ = industry_by_code_select(naics_2_code_employ_data,\"23\")\n",
    "display(construction_industry_.head(5))\n",
    "display(construction_industry_.shape)"
   ]
  },
  {
   "cell_type": "markdown",
   "metadata": {},
   "source": [
    "The shape of the construction industry employment data is *276* rows with *6* columns, which will make it difficult to observe the any trend in employment overtime. Therefore the data will be resampled yearly to observe it trend over the *23* years range."
   ]
  },
  {
   "cell_type": "code",
   "execution_count": 27,
   "metadata": {},
   "outputs": [
    {
     "data": {
      "image/png": "[encoded data removed]",
      "text/plain": [
       "<Figure size 432x288 with 1 Axes>"
      ]
     },
     "metadata": {
      "needs_background": "light"
     },
     "output_type": "display_data"
    },
    {
     "data": {
      "image/png": "[encoded data removed]",
      "text/plain": [
       "<Figure size 432x288 with 1 Axes>"
      ]
     },
     "metadata": {
      "needs_background": "light"
     },
     "output_type": "display_data"
    }
   ],
   "source": [
    "construction_industry = naics_data_specific_years(construction_industry_,\"1997\",\"2019\")\n",
    "plot_naics_per_year_by_barplot(construction_industry,\"1997\",\"2019\")\n",
    "plot_naics_per_year_by_scatterplot(construction_industry,\"1997\",\"2019\")"
   ]
  },
  {
   "cell_type": "markdown",
   "metadata": {},
   "source": [
    "Employment in the construction industry got off on a better note (i.e. in *1997*), however, decline in the next four subsequent year (i.e. *1998-2001*) and saw some **fifty-four thousand, two hundred and fifty (54 250)** increase in employment from *2001*'s figure. The industry's employment figures continue to increase steadily until its sharp increase from the year *2004* to *2008*. Then after, the industry started to see a decline in employment from *2009* to *2011* and a slight increase from *2012* and *2013* and then again, a decline in *2014* and *2015*. The second sharp increase of the industry's employment occurs *2016* to *2018* reaching the **peak value for the industry in 2018** with the total employment of **two million eight hundred and sixty thousand seven hundred and fifty (i.e. 2 860 750)**. However, there was a decline in *2019*'s employment in the construction industry. It important to make known that, the first few years (i.e. *1997-2003*) have the least numbers of employment in the industry, with the industry employing more people during the *2005* and *2008* period.\n",
    "\n",
    "In all, the employment regarding the construction industry has been unstable with some fluctuations here and there whose cause is not available from the data available in this analysis."
   ]
  },
  {
   "cell_type": "markdown",
   "metadata": {},
   "source": [
    "#### 2. How employment in Construction evolved over time, compared to the total employment across all industries?"
   ]
  },
  {
   "cell_type": "markdown",
   "metadata": {},
   "source": [
    "To find the trend of all other industry as compared to the Construction industry, the data of these industries must first be extracted from the dataset. Below is the first few rows of all other industries excluding the construction industry"
   ]
  },
  {
   "cell_type": "code",
   "execution_count": 28,
   "metadata": {},
   "outputs": [
    {
     "data": {
      "text/html": [
       "<div>\n",
       "<style scoped>\n",
       "    .dataframe tbody tr th:only-of-type {\n",
       "        vertical-align: middle;\n",
       "    }\n",
       "\n",
       "    .dataframe tbody tr th {\n",
       "        vertical-align: top;\n",
       "    }\n",
       "\n",
       "    .dataframe thead th {\n",
       "        text-align: right;\n",
       "    }\n",
       "</style>\n",
       "<table border=\"1\" class=\"dataframe\">\n",
       "  <thead>\n",
       "    <tr style=\"text-align: right;\">\n",
       "      <th></th>\n",
       "      <th>SYEAR</th>\n",
       "      <th>SMTH</th>\n",
       "      <th>_EMPLOYMENT_</th>\n",
       "      <th>DAY</th>\n",
       "      <th>NAICS_name</th>\n",
       "      <th>NAICS_code</th>\n",
       "    </tr>\n",
       "    <tr>\n",
       "      <th>DATE</th>\n",
       "      <th></th>\n",
       "      <th></th>\n",
       "      <th></th>\n",
       "      <th></th>\n",
       "      <th></th>\n",
       "      <th></th>\n",
       "    </tr>\n",
       "  </thead>\n",
       "  <tbody>\n",
       "    <tr>\n",
       "      <th>1997-01-31</th>\n",
       "      <td>1997</td>\n",
       "      <td>1</td>\n",
       "      <td>72000</td>\n",
       "      <td>31</td>\n",
       "      <td>Wholesale trade</td>\n",
       "      <td>41</td>\n",
       "    </tr>\n",
       "    <tr>\n",
       "      <th>1997-01-31</th>\n",
       "      <td>1997</td>\n",
       "      <td>1</td>\n",
       "      <td>9750</td>\n",
       "      <td>31</td>\n",
       "      <td>Utilities</td>\n",
       "      <td>22</td>\n",
       "    </tr>\n",
       "    <tr>\n",
       "      <th>1997-01-31</th>\n",
       "      <td>1997</td>\n",
       "      <td>1</td>\n",
       "      <td>107000</td>\n",
       "      <td>31</td>\n",
       "      <td>Transportation and warehousing</td>\n",
       "      <td>48-49</td>\n",
       "    </tr>\n",
       "    <tr>\n",
       "      <th>1997-01-31</th>\n",
       "      <td>1997</td>\n",
       "      <td>1</td>\n",
       "      <td>224000</td>\n",
       "      <td>31</td>\n",
       "      <td>Retail trade</td>\n",
       "      <td>44-45</td>\n",
       "    </tr>\n",
       "    <tr>\n",
       "      <th>1997-01-31</th>\n",
       "      <td>1997</td>\n",
       "      <td>1</td>\n",
       "      <td>50750</td>\n",
       "      <td>31</td>\n",
       "      <td>Real estate, rental and leasing</td>\n",
       "      <td>53</td>\n",
       "    </tr>\n",
       "    <tr>\n",
       "      <th>1997-01-31</th>\n",
       "      <td>1997</td>\n",
       "      <td>1</td>\n",
       "      <td>104500</td>\n",
       "      <td>31</td>\n",
       "      <td>Public administration</td>\n",
       "      <td>91</td>\n",
       "    </tr>\n",
       "    <tr>\n",
       "      <th>1997-01-31</th>\n",
       "      <td>1997</td>\n",
       "      <td>1</td>\n",
       "      <td>109750</td>\n",
       "      <td>31</td>\n",
       "      <td>Professional, scientific and technical services</td>\n",
       "      <td>54</td>\n",
       "    </tr>\n",
       "    <tr>\n",
       "      <th>1997-01-31</th>\n",
       "      <td>1997</td>\n",
       "      <td>1</td>\n",
       "      <td>89250</td>\n",
       "      <td>31</td>\n",
       "      <td>Other services (except public administration)</td>\n",
       "      <td>81</td>\n",
       "    </tr>\n",
       "    <tr>\n",
       "      <th>1997-01-31</th>\n",
       "      <td>1997</td>\n",
       "      <td>1</td>\n",
       "      <td>16750</td>\n",
       "      <td>31</td>\n",
       "      <td>Mining, quarrying, and oil and gas extraction</td>\n",
       "      <td>21</td>\n",
       "    </tr>\n",
       "    <tr>\n",
       "      <th>1997-01-31</th>\n",
       "      <td>1997</td>\n",
       "      <td>1</td>\n",
       "      <td>190250</td>\n",
       "      <td>31</td>\n",
       "      <td>Manufacturing</td>\n",
       "      <td>31-33</td>\n",
       "    </tr>\n",
       "  </tbody>\n",
       "</table>\n",
       "</div>"
      ],
      "text/plain": [
       "           SYEAR SMTH  _EMPLOYMENT_ DAY  \\\n",
       "DATE                                      \n",
       "1997-01-31  1997    1         72000  31   \n",
       "1997-01-31  1997    1          9750  31   \n",
       "1997-01-31  1997    1        107000  31   \n",
       "1997-01-31  1997    1        224000  31   \n",
       "1997-01-31  1997    1         50750  31   \n",
       "1997-01-31  1997    1        104500  31   \n",
       "1997-01-31  1997    1        109750  31   \n",
       "1997-01-31  1997    1         89250  31   \n",
       "1997-01-31  1997    1         16750  31   \n",
       "1997-01-31  1997    1        190250  31   \n",
       "\n",
       "                                                  NAICS_name NAICS_code  \n",
       "DATE                                                                     \n",
       "1997-01-31                                 Wholesale trade           41  \n",
       "1997-01-31                                        Utilities          22  \n",
       "1997-01-31                   Transportation and warehousing       48-49  \n",
       "1997-01-31                                    Retail trade        44-45  \n",
       "1997-01-31                  Real estate, rental and leasing          53  \n",
       "1997-01-31                            Public administration          91  \n",
       "1997-01-31  Professional, scientific and technical services          54  \n",
       "1997-01-31     Other services (except public administration)         81  \n",
       "1997-01-31    Mining, quarrying, and oil and gas extraction          21  \n",
       "1997-01-31                                    Manufacturing       31-33  "
      ]
     },
     "metadata": {},
     "output_type": "display_data"
    },
    {
     "data": {
      "text/plain": [
       "(5196, 6)"
      ]
     },
     "execution_count": 28,
     "metadata": {},
     "output_type": "execute_result"
    }
   ],
   "source": [
    "without_const_industry = naics_2_code_employ_data[naics_2_code_employ_data.NAICS_code!=\"23\"]\n",
    "display(without_const_industry.head(10))\n",
    "without_const_industry.shape"
   ]
  },
  {
   "cell_type": "markdown",
   "metadata": {},
   "source": [
    "As expected, the data is **5196** rows with **6** columns, which will make it difficult to compare the construction employment with non-construction industry employment (i.e. all other industries). Therefore, the data will be resampled yearly to do the comparison over the *23* years range."
   ]
  },
  {
   "cell_type": "code",
   "execution_count": 29,
   "metadata": {},
   "outputs": [
    {
     "data": {
      "image/png": "[encoded data removed]",
      "text/plain": [
       "<Figure size 576x432 with 2 Axes>"
      ]
     },
     "metadata": {
      "needs_background": "light"
     },
     "output_type": "display_data"
    }
   ],
   "source": [
    "non_construct = naics_data_specific_years(without_const_industry,\"1997\",\"2019\")\n",
    "fig,(ax,ax1) = plt.subplots(2,sharex=True,figsize=(8,6))\n",
    "plt.subplots_adjust(top = 0.89, bottom=0.01, hspace=0.2, wspace=0.2)\n",
    "fig.suptitle(\"Comparison between the Construction and Non-construction industry, 1997 to 2019\")\n",
    "ax.scatter(x=years,y=construction_industry._EMPLOYMENT_)\n",
    "ax.set_title(\"Construction industry employment\")\n",
    "ax.set_ylabel(\"Total employment\")\n",
    "#plt.xticks(range(len(years)),years,rotation=90)\n",
    "ax1.scatter(x=years,y=non_construct._EMPLOYMENT_)\n",
    "ax1.set_title(\"Non-construction industry employment\")\n",
    "ax1.set_ylabel(\"Total employment\")\n",
    "ax1.set_xlabel(\"Year\")\n",
    "plt.xticks(range(len(years)),years,rotation=90)\n",
    "plt.show()"
   ]
  },
  {
   "cell_type": "markdown",
   "metadata": {},
   "source": [
    "As the construction industry's employment started on decreasing spree, non-construction industries' employment however, started with a steadily increase from *1997* until the year *2000* and saw a decline in the year *2001* and then continues with its increasing spree but this time more steadily (i.e. from *2002* to *2008*) than previously. Within the same period (i.e. *2002* to *2008*), the construction industry however, saw a sharp increase every year to reach its third highest employment within the *23* years range (i.e. behind *2017* and *2018*). Although both industries declined in the employment figures in 2009, non-construction picked up in the subsequent years from *2010* to *2012* but with a slight decrease in *2013* (i.e. **32 500** less of *2012*'s employment), however, the construction industry's employment decline continued until *2011* and appreciated in *2012* and *2013* with **69 750** more of *2012*'s employment figures in *2013*. \n",
    "From *2014* to *2018*, the employment figures in the non-construction industries again saw a significant increase over the period reaching its peak employment in *2018* with a total of **Twenty-seven million, sixty-two thousand two hundred and fifty (27 062 250**). While there was continues increase in employment values for the non-construction industry from *2014* to *2018*, there was rather a decline in employment in the construction industry in 2014 and 2015 and then a continuous significantly increase afterwards until 2018, been the peak employment of the construction industry(i.e.**Two million eight hundred and sixty thousand seven hundred and fifty, 2 860 750**). Both industries saw a sharp declined in 2019 employment values with non-construction having a higher rate of decline than construction industry.\n",
    "\n",
    "The non-construction industries seem to perform better than the construction industry in terms of employment opportunities offered over the *23* year range (i.e. *1997-2019*). Moreover, the cause of spike increase in employment in years like *2016* to *2018* in both industries and others is not known, hence further research and data analysis would be needed to unearth the cause (s) of the spikes.\n"
   ]
  },
  {
   "cell_type": "code",
   "execution_count": 30,
   "metadata": {},
   "outputs": [
    {
     "data": {
      "image/png": "[encoded data removed]",
      "text/plain": [
       "<Figure size 720x576 with 6 Axes>"
      ]
     },
     "metadata": {
      "needs_background": "light"
     },
     "output_type": "display_data"
    }
   ],
   "source": [
    "without_const_industry_month_2016 = naics_data_specific_months_year(without_const_industry,\"2016-01\",\"2016-12\")\n",
    "without_const_industry_month_2017 = naics_data_specific_months_year(without_const_industry,\"2017-01\",\"2017-12\")\n",
    "without_const_industry_month_2018 = naics_data_specific_months_year(without_const_industry,\"2018-01\",\"2018-12\")\n",
    "const_industry_month_2016 = naics_data_specific_months_year(construction_industry_,\"2016-01\",\"2016-12\")\n",
    "const_industry_month_2017 = naics_data_specific_months_year(construction_industry_,\"2017-01\",\"2017-12\")\n",
    "const_industry_month_2018 = naics_data_specific_months_year(construction_industry_,\"2018-01\",\"2018-12\")\n",
    "fig,((ax,ax1),(ax2,ax3),(ax4,ax5)) = plt.subplots(3,2,figsize=(10,8))\n",
    "plt.subplots_adjust(top = 0.89, bottom=0.01, hspace=0.85, wspace=0.4)\n",
    "fig.suptitle(\"Comparison between the Construction and Non-construction industry per month, 2016 to 2018\")\n",
    "ax.scatter(x=months,y=const_industry_month_2016[\"_EMPLOYMENT_\"])\n",
    "ax.set_title(\"Monthly Construction industry's employment, 2016\")\n",
    "ax.set_ylabel(\"Total employment\")\n",
    "ax1.scatter(x=months,y=without_const_industry_month_2016[\"_EMPLOYMENT_\"])\n",
    "ax1.set_title(\"Monthly Non-construction industry's employment, 2016\")\n",
    "ax1.set_ylabel(\"Total employment\")\n",
    "ax2.scatter(x=months,y=const_industry_month_2017[\"_EMPLOYMENT_\"])\n",
    "ax2.set_title(\"Monthly Construction industry's employment, 2017\")\n",
    "ax2.set_ylabel(\"Total employment\")\n",
    "ax3.scatter(x=months,y=without_const_industry_month_2017[\"_EMPLOYMENT_\"])\n",
    "ax3.set_title(\"Monthly Non-construction industry's employment, 2017\")\n",
    "ax3.set_ylabel(\"Total employment\")\n",
    "ax4.scatter(x=months,y=const_industry_month_2018[\"_EMPLOYMENT_\"])\n",
    "ax4.set_title(\"Monthly Construction industry's employment, 2018\")\n",
    "ax4.set_ylabel(\"Total employment\")\n",
    "ax5.scatter(x=months,y=without_const_industry_month_2018[\"_EMPLOYMENT_\"])\n",
    "ax5.set_title(\"Monthly Non-construction industry's employment, 2018\")\n",
    "ax5.set_ylabel(\"Total employment\")\n",
    "plt.xlabel(\"Months\")\n",
    "for ax in fig.axes:\n",
    "    ax.set_xticklabels(months,rotation=90)\n",
    "plt.show()"
   ]
  },
  {
   "cell_type": "markdown",
   "metadata": {},
   "source": [
    "#### 3. How the total employment evolve overtime?"
   ]
  },
  {
   "cell_type": "markdown",
   "metadata": {},
   "source": [
    "In this anlaysis, we want to find out how the total accumulated employment from all sectors evolve over time in respect to *23* year range. As usual we have to aggregate the data for total employment for each year from *1997* to *2019*. A few rows of the data is shown below."
   ]
  },
  {
   "cell_type": "code",
   "execution_count": 31,
   "metadata": {},
   "outputs": [
    {
     "data": {
      "text/html": [
       "<div>\n",
       "<style scoped>\n",
       "    .dataframe tbody tr th:only-of-type {\n",
       "        vertical-align: middle;\n",
       "    }\n",
       "\n",
       "    .dataframe tbody tr th {\n",
       "        vertical-align: top;\n",
       "    }\n",
       "\n",
       "    .dataframe thead th {\n",
       "        text-align: right;\n",
       "    }\n",
       "</style>\n",
       "<table border=\"1\" class=\"dataframe\">\n",
       "  <thead>\n",
       "    <tr style=\"text-align: right;\">\n",
       "      <th></th>\n",
       "      <th>DATE</th>\n",
       "      <th>_EMPLOYMENT_</th>\n",
       "    </tr>\n",
       "  </thead>\n",
       "  <tbody>\n",
       "    <tr>\n",
       "      <th>0</th>\n",
       "      <td>1997-12-31</td>\n",
       "      <td>22318500</td>\n",
       "    </tr>\n",
       "    <tr>\n",
       "      <th>1</th>\n",
       "      <td>1998-12-31</td>\n",
       "      <td>22292250</td>\n",
       "    </tr>\n",
       "    <tr>\n",
       "      <th>2</th>\n",
       "      <td>1999-12-31</td>\n",
       "      <td>22724000</td>\n",
       "    </tr>\n",
       "    <tr>\n",
       "      <th>3</th>\n",
       "      <td>2000-12-31</td>\n",
       "      <td>23169000</td>\n",
       "    </tr>\n",
       "    <tr>\n",
       "      <th>4</th>\n",
       "      <td>2001-12-31</td>\n",
       "      <td>23051000</td>\n",
       "    </tr>\n",
       "  </tbody>\n",
       "</table>\n",
       "</div>"
      ],
      "text/plain": [
       "        DATE  _EMPLOYMENT_\n",
       "0 1997-12-31      22318500\n",
       "1 1998-12-31      22292250\n",
       "2 1999-12-31      22724000\n",
       "3 2000-12-31      23169000\n",
       "4 2001-12-31      23051000"
      ]
     },
     "metadata": {},
     "output_type": "display_data"
    },
    {
     "data": {
      "text/plain": [
       "(23, 2)"
      ]
     },
     "execution_count": 31,
     "metadata": {},
     "output_type": "execute_result"
    }
   ],
   "source": [
    "total_employ_97_19 = naics_data_specific_years(naics_2_code_employ_data,\"1997\",\"2019\")\n",
    "display(total_employ_97_19.head())\n",
    "total_employ_97_19.shape"
   ]
  },
  {
   "cell_type": "code",
   "execution_count": 32,
   "metadata": {},
   "outputs": [
    {
     "data": {
      "image/png": "[encoded data removed]",
      "text/plain": [
       "<Figure size 432x288 with 1 Axes>"
      ]
     },
     "metadata": {
      "needs_background": "light"
     },
     "output_type": "display_data"
    },
    {
     "data": {
      "image/png": "[encoded data removed]",
      "text/plain": [
       "<Figure size 432x288 with 1 Axes>"
      ]
     },
     "metadata": {
      "needs_background": "light"
     },
     "output_type": "display_data"
    }
   ],
   "source": [
    "plot_naics_per_year_by_barplot(total_employ_97_19,\"1997\",\"2019\")\n",
    "plot_naics_per_year_by_scatterplot(total_employ_97_19,\"1997\",\"2019\")"
   ]
  },
  {
   "cell_type": "markdown",
   "metadata": {},
   "source": [
    "From the onset the total employment saw a decline in *1998* with **Twenty-six thousand two hundred and fifty (26 250)** less of the *1997* employment figures. It then started to increase sharply from *2001* to *2008*, but there was a slight decline in 2001 (i.e.**118 000 less of 2000's employment figure**) when the figures started to increase from *1999*. After *2008*, *2009* saw a drop of  **Five hundred and Ninety-nine thousand, two hundred and fifty, 599 250** employments as against the *2008*'s figure, thereafter there was a steadily increase in total employment up to *2015* and a sharp increase from *2015* to *2018*. However, *2019* employment figure dropped to a value of **Twenty-three million, fifty-seven thousand five hundred, 23 057 500** which is consistent with the data we've analyzed so, there again the reason for decline is not readily available data for this analysis.\n",
    "The consistency is not about 2019 figures only, 2018 has also been the year with highest number of employments as far as the data analyzed is concern."
   ]
  },
  {
   "cell_type": "markdown",
   "metadata": {},
   "source": [
    "#### 4.  What is the peak month (s) for employment overtime?"
   ]
  },
  {
   "cell_type": "markdown",
   "metadata": {},
   "source": [
    "In this analysis, we would approach it in two ways. First, we will determine the peak month when the data is aggregated on monthly basis for each year and secondly, the peak month when the aggregation is done monthly for the whole period (i.e. 1997-2019)."
   ]
  },
  {
   "cell_type": "code",
   "execution_count": 33,
   "metadata": {},
   "outputs": [
    {
     "data": {
      "text/html": [
       "<div>\n",
       "<style scoped>\n",
       "    .dataframe tbody tr th:only-of-type {\n",
       "        vertical-align: middle;\n",
       "    }\n",
       "\n",
       "    .dataframe tbody tr th {\n",
       "        vertical-align: top;\n",
       "    }\n",
       "\n",
       "    .dataframe thead th {\n",
       "        text-align: right;\n",
       "    }\n",
       "</style>\n",
       "<table border=\"1\" class=\"dataframe\">\n",
       "  <thead>\n",
       "    <tr style=\"text-align: right;\">\n",
       "      <th></th>\n",
       "      <th>_EMPLOYMENT_</th>\n",
       "    </tr>\n",
       "    <tr>\n",
       "      <th>DATE</th>\n",
       "      <th></th>\n",
       "    </tr>\n",
       "  </thead>\n",
       "  <tbody>\n",
       "    <tr>\n",
       "      <th>2019-06-30</th>\n",
       "      <td>2612500</td>\n",
       "    </tr>\n",
       "    <tr>\n",
       "      <th>2019-07-31</th>\n",
       "      <td>2595000</td>\n",
       "    </tr>\n",
       "    <tr>\n",
       "      <th>2019-05-31</th>\n",
       "      <td>2590750</td>\n",
       "    </tr>\n",
       "    <tr>\n",
       "      <th>2019-08-31</th>\n",
       "      <td>2580750</td>\n",
       "    </tr>\n",
       "    <tr>\n",
       "      <th>2019-09-30</th>\n",
       "      <td>2558750</td>\n",
       "    </tr>\n",
       "    <tr>\n",
       "      <th>2019-04-30</th>\n",
       "      <td>2549750</td>\n",
       "    </tr>\n",
       "    <tr>\n",
       "      <th>2019-03-31</th>\n",
       "      <td>2540500</td>\n",
       "    </tr>\n",
       "    <tr>\n",
       "      <th>2018-11-30</th>\n",
       "      <td>2534000</td>\n",
       "    </tr>\n",
       "    <tr>\n",
       "      <th>2017-06-30</th>\n",
       "      <td>2526500</td>\n",
       "    </tr>\n",
       "    <tr>\n",
       "      <th>2018-09-30</th>\n",
       "      <td>2526500</td>\n",
       "    </tr>\n",
       "  </tbody>\n",
       "</table>\n",
       "</div>"
      ],
      "text/plain": [
       "            _EMPLOYMENT_\n",
       "DATE                    \n",
       "2019-06-30       2612500\n",
       "2019-07-31       2595000\n",
       "2019-05-31       2590750\n",
       "2019-08-31       2580750\n",
       "2019-09-30       2558750\n",
       "2019-04-30       2549750\n",
       "2019-03-31       2540500\n",
       "2018-11-30       2534000\n",
       "2017-06-30       2526500\n",
       "2018-09-30       2526500"
      ]
     },
     "metadata": {},
     "output_type": "display_data"
    },
    {
     "data": {
      "text/html": [
       "<div>\n",
       "<style scoped>\n",
       "    .dataframe tbody tr th:only-of-type {\n",
       "        vertical-align: middle;\n",
       "    }\n",
       "\n",
       "    .dataframe tbody tr th {\n",
       "        vertical-align: top;\n",
       "    }\n",
       "\n",
       "    .dataframe thead th {\n",
       "        text-align: right;\n",
       "    }\n",
       "</style>\n",
       "<table border=\"1\" class=\"dataframe\">\n",
       "  <thead>\n",
       "    <tr style=\"text-align: right;\">\n",
       "      <th></th>\n",
       "      <th>_EMPLOYMENT_</th>\n",
       "    </tr>\n",
       "    <tr>\n",
       "      <th>DATE</th>\n",
       "      <th></th>\n",
       "    </tr>\n",
       "  </thead>\n",
       "  <tbody>\n",
       "    <tr>\n",
       "      <th>1997-04-30</th>\n",
       "      <td>1827750</td>\n",
       "    </tr>\n",
       "    <tr>\n",
       "      <th>1998-03-31</th>\n",
       "      <td>1820500</td>\n",
       "    </tr>\n",
       "    <tr>\n",
       "      <th>1997-03-31</th>\n",
       "      <td>1815250</td>\n",
       "    </tr>\n",
       "    <tr>\n",
       "      <th>1998-02-28</th>\n",
       "      <td>1813750</td>\n",
       "    </tr>\n",
       "    <tr>\n",
       "      <th>1998-01-31</th>\n",
       "      <td>1809000</td>\n",
       "    </tr>\n",
       "    <tr>\n",
       "      <th>1997-02-28</th>\n",
       "      <td>1808000</td>\n",
       "    </tr>\n",
       "    <tr>\n",
       "      <th>1997-01-31</th>\n",
       "      <td>1802250</td>\n",
       "    </tr>\n",
       "    <tr>\n",
       "      <th>2019-10-31</th>\n",
       "      <td>0</td>\n",
       "    </tr>\n",
       "    <tr>\n",
       "      <th>2019-11-30</th>\n",
       "      <td>0</td>\n",
       "    </tr>\n",
       "    <tr>\n",
       "      <th>2019-12-31</th>\n",
       "      <td>0</td>\n",
       "    </tr>\n",
       "  </tbody>\n",
       "</table>\n",
       "</div>"
      ],
      "text/plain": [
       "            _EMPLOYMENT_\n",
       "DATE                    \n",
       "1997-04-30       1827750\n",
       "1998-03-31       1820500\n",
       "1997-03-31       1815250\n",
       "1998-02-28       1813750\n",
       "1998-01-31       1809000\n",
       "1997-02-28       1808000\n",
       "1997-01-31       1802250\n",
       "2019-10-31             0\n",
       "2019-11-30             0\n",
       "2019-12-31             0"
      ]
     },
     "metadata": {},
     "output_type": "display_data"
    }
   ],
   "source": [
    "#Find the total employment for each month within each year (i.e. Jan 1997, Feb 1997 ...)\n",
    "month_employ = naics_2_code_employ_data.loc[\"1997-01\":\"2019-12\"].resample(\"M\").sum()\n",
    "#Sorted the data in decsending order and display the first 10 rows\n",
    "month_employ_sorted = month_employ.sort_values(by=\"_EMPLOYMENT_\",ascending=False)\n",
    "display(month_employ_sorted.head(10),month_employ_sorted.tail(10))"
   ]
  },
  {
   "cell_type": "markdown",
   "metadata": {},
   "source": [
    "The first *seven (7)* months with highest number of employment figures were in *2019* which all this while has been the year with the lowest number of employment. This seems strange, however, further analysis revealed that the last *3 months* of *2019* (i.e. *October-December*) recorded *zero (0)* number of employment which accounts for it been the year with least number of employment."
   ]
  },
  {
   "cell_type": "code",
   "execution_count": 34,
   "metadata": {},
   "outputs": [
    {
     "data": {
      "text/html": [
       "<div>\n",
       "<style scoped>\n",
       "    .dataframe tbody tr th:only-of-type {\n",
       "        vertical-align: middle;\n",
       "    }\n",
       "\n",
       "    .dataframe tbody tr th {\n",
       "        vertical-align: top;\n",
       "    }\n",
       "\n",
       "    .dataframe thead th {\n",
       "        text-align: right;\n",
       "    }\n",
       "</style>\n",
       "<table border=\"1\" class=\"dataframe\">\n",
       "  <thead>\n",
       "    <tr style=\"text-align: right;\">\n",
       "      <th></th>\n",
       "      <th>_EMPLOYMENT_</th>\n",
       "    </tr>\n",
       "    <tr>\n",
       "      <th>DATE</th>\n",
       "      <th></th>\n",
       "    </tr>\n",
       "  </thead>\n",
       "  <tbody>\n",
       "    <tr>\n",
       "      <th>2019-06-30</th>\n",
       "      <td>2612500</td>\n",
       "    </tr>\n",
       "  </tbody>\n",
       "</table>\n",
       "</div>"
      ],
      "text/plain": [
       "            _EMPLOYMENT_\n",
       "DATE                    \n",
       "2019-06-30       2612500"
      ]
     },
     "metadata": {},
     "output_type": "display_data"
    }
   ],
   "source": [
    "#Find the month with the maximum number of employment per each year \n",
    "display(month_employ[month_employ._EMPLOYMENT_==month_employ._EMPLOYMENT_.max()])"
   ]
  },
  {
   "cell_type": "markdown",
   "metadata": {},
   "source": [
    "The month employing the highest number of people from 1997 to 2019 was **June 2019** with **two million sixty hundred and twelve thousand five hundred** persons employed."
   ]
  },
  {
   "cell_type": "markdown",
   "metadata": {},
   "source": [
    "To shed more light on the above analysis, a comparison is done between the years with the highest number and the lowest number of employment, *2018* and *2019* respectively."
   ]
  },
  {
   "cell_type": "code",
   "execution_count": 35,
   "metadata": {},
   "outputs": [
    {
     "data": {
      "image/png": "[encoded data removed]",
      "text/plain": [
       "<Figure size 576x288 with 2 Axes>"
      ]
     },
     "metadata": {
      "needs_background": "light"
     },
     "output_type": "display_data"
    }
   ],
   "source": [
    "#Save the number of employment per each for 2018\n",
    "naics_industries_monthly_2018 = naics_data_specific_months_year(naics_2_code_employ_data,\"2018-01\",\"2018-12\")\n",
    "#Save the number of employment per each for 2019\n",
    "naics_industries_monthly_2019 = naics_data_specific_months_year(naics_2_code_employ_data,\"2019-01\",\"2019-12\")\n",
    "#Plot a graph of the monthly employment for both year (2018 and 2019)\n",
    "fig,(ax,ax1) = plt.subplots(1,2,figsize=(8,4),sharey=True)\n",
    "plt.subplots_adjust(top = 0.70, bottom=0.01, hspace=0.5, wspace=0.4)\n",
    "fig.suptitle(\"Comparing 2018 and 2019 monthly employments\")\n",
    "ax.scatter(x=months,y=naics_industries_monthly_2018[\"_EMPLOYMENT_\"])\n",
    "ax.set_title(\"Monthly employment 2018\")\n",
    "ax.set_ylabel(\"Total employment\")\n",
    "ax1.scatter(x=months,y=naics_industries_monthly_2019[\"_EMPLOYMENT_\"])\n",
    "ax1.set_title(\"Monthly employment 2019\")\n",
    "for ax in fig.axes:\n",
    "    ax.set_xticklabels(months,rotation=90)\n",
    "    ax.set_xlabel(\"Months\")\n",
    "plt.show()"
   ]
  },
  {
   "cell_type": "code",
   "execution_count": 36,
   "metadata": {},
   "outputs": [
    {
     "name": "stdout",
     "output_type": "stream",
     "text": [
      "            _EMPLOYMENT_\n",
      "DATE                    \n",
      "2018-11-30       2534000\n",
      "            _EMPLOYMENT_\n",
      "DATE                    \n",
      "2019-06-30       2612500\n"
     ]
    }
   ],
   "source": [
    "#Find the month with the maximum number of people employed across all industries for 2018\n",
    "peak_month_2018 = naics_industries_monthly_2018[naics_industries_monthly_2018._EMPLOYMENT_==naics_industries_monthly_2018._EMPLOYMENT_.max()]\n",
    "#Find the month with the maximum number of people employed across all industries for 2019\n",
    "peak_month_2019 = naics_industries_monthly_2019[naics_industries_monthly_2019._EMPLOYMENT_==naics_industries_monthly_2019._EMPLOYMENT_.max()]\n",
    "print(peak_month_2018)\n",
    "print(peak_month_2019)"
   ]
  },
  {
   "cell_type": "markdown",
   "metadata": {},
   "source": [
    "The second aspect of the analysis is below, the aggregation as stated earlier is done on monthly base over the entire period not for each year."
   ]
  },
  {
   "cell_type": "code",
   "execution_count": 37,
   "metadata": {},
   "outputs": [],
   "source": [
    "#Empty dictionary to accumulate the values for each month\n",
    "month_employ_dict = {}\n",
    "#Iterate through the dataset and aggregate the values for each month for the entire period\n",
    "for index,row in month_employ.iterrows():\n",
    "    mths = index.month\n",
    "    value = month_employ.loc[index,\"_EMPLOYMENT_\"]\n",
    "    if mths in month_employ_dict:\n",
    "        month_employ_dict[mths]+=value\n",
    "    else:\n",
    "        month_employ_dict[mths]=value\n",
    "#Sort the dictionary in descending order\n",
    "month_employ_sorted = sorted(month_employ_dict.items(),key=lambda x:x[1],reverse=True)\n",
    "#Empty list to store the values of the sorted dictionary for plotting\n",
    "month_values = []\n",
    "#Iterate through the dictionary keys and append its value to a list\n",
    "for index,value in month_employ_dict.items():\n",
    "    month_values.append(value)"
   ]
  },
  {
   "cell_type": "code",
   "execution_count": 38,
   "metadata": {},
   "outputs": [
    {
     "data": {
      "text/plain": [
       "[(8, 50548250),\n",
       " (6, 50504750),\n",
       " (7, 50456500),\n",
       " (9, 50193500),\n",
       " (5, 49937000),\n",
       " (4, 49190000),\n",
       " (3, 49050500),\n",
       " (2, 48770000),\n",
       " (1, 48533250),\n",
       " (10, 47628500),\n",
       " (11, 47456000),\n",
       " (12, 47375000)]"
      ]
     },
     "metadata": {},
     "output_type": "display_data"
    }
   ],
   "source": [
    "display(month_employ_sorted)"
   ]
  },
  {
   "cell_type": "code",
   "execution_count": 39,
   "metadata": {},
   "outputs": [
    {
     "data": {
      "image/png": "[encoded data removed]",
      "text/plain": [
       "<Figure size 432x432 with 2 Axes>"
      ]
     },
     "metadata": {
      "needs_background": "light"
     },
     "output_type": "display_data"
    }
   ],
   "source": [
    "#Create a subplot figure with two rows to compare the monthly employment figure for the \n",
    "#entire period, 1997 to 2019\n",
    "fig,(ax1,ax2) = plt.subplots(2,figsize=(6,6),sharex=True)\n",
    "#Adjust the subplot for spacing and readability\n",
    "plt.subplots_adjust(top = 0.89, bottom=0.01, hspace=0.25, wspace=0.4)\n",
    "#Set the main title for the subplot\n",
    "fig.suptitle(\"Comparing aggregate employment per month over the entire period, 1997 to 2019\")\n",
    "#Plot the first graph\n",
    "ax1.scatter(x=months,y=month_values)\n",
    "#Set the title for the first graph\n",
    "ax1.set_title(\"Scatter Plot\")\n",
    "#Set the y-axis label for the first graph\n",
    "ax1.set_ylabel(\"Total employment\")\n",
    "#Plot the second graph\n",
    "ax2.bar(months,month_values,color=\"BryGY\")\n",
    "#Set the title for the second graph\n",
    "ax2.set_title(\"Bar Chart\")\n",
    "#Set the y-axis label for the first graph\n",
    "ax2.set_ylabel(\"Total employment\")\n",
    "#Set the x-axis ticks for the figure\n",
    "plt.xticks(range(len(months)),months,rotation=90)\n",
    "#Display the figure\n",
    "plt.show()"
   ]
  },
  {
   "cell_type": "markdown",
   "metadata": {},
   "source": [
    "Although *June 2019* was the month employing the highest number  in terms of monthly employment for every year from 1997 to 2019, however, if the employment in each month is aggregated over the *23-year* period, the month of *August* is the month with the highest number of employment employing a total of **Fifty million, five hundred and forty-eight thousand, two hundred and fifty (i.e. 50 548 250)**, followed closely by June with **50 504 750**, July, **50 456 500** and September with **50 193 500** in that order.\n",
    "This is evident that people get employed more during the second half of every year especially from June to September as revealed above and the analysis on each year's monthly employment figures."
   ]
  },
  {
   "cell_type": "markdown",
   "metadata": {},
   "source": [
    "#### 5. What is the 2-digit NAICS industry employing most people?"
   ]
  },
  {
   "cell_type": "markdown",
   "metadata": {},
   "source": [
    "The analysis to answer the above question would be done on the NAICS 2-digit industries. Aggregation of the number of employment in each industry is done and the result sorted descending and a graph is plotted."
   ]
  },
  {
   "cell_type": "code",
   "execution_count": 40,
   "metadata": {},
   "outputs": [
    {
     "data": {
      "text/html": [
       "<div>\n",
       "<style scoped>\n",
       "    .dataframe tbody tr th:only-of-type {\n",
       "        vertical-align: middle;\n",
       "    }\n",
       "\n",
       "    .dataframe tbody tr th {\n",
       "        vertical-align: top;\n",
       "    }\n",
       "\n",
       "    .dataframe thead th {\n",
       "        text-align: right;\n",
       "    }\n",
       "</style>\n",
       "<table border=\"1\" class=\"dataframe\">\n",
       "  <thead>\n",
       "    <tr style=\"text-align: right;\">\n",
       "      <th></th>\n",
       "      <th>NAICS_name</th>\n",
       "      <th>NAICS_code</th>\n",
       "      <th>_EMPLOYMENT_</th>\n",
       "    </tr>\n",
       "  </thead>\n",
       "  <tbody>\n",
       "    <tr>\n",
       "      <th>0</th>\n",
       "      <td>Retail trade</td>\n",
       "      <td>44-45</td>\n",
       "      <td>71565000</td>\n",
       "    </tr>\n",
       "    <tr>\n",
       "      <th>1</th>\n",
       "      <td>Health care and social assistance</td>\n",
       "      <td>62</td>\n",
       "      <td>66872000</td>\n",
       "    </tr>\n",
       "    <tr>\n",
       "      <th>2</th>\n",
       "      <td>Manufacturing</td>\n",
       "      <td>31-33</td>\n",
       "      <td>49336250</td>\n",
       "    </tr>\n",
       "    <tr>\n",
       "      <th>3</th>\n",
       "      <td>Construction</td>\n",
       "      <td>23</td>\n",
       "      <td>47616500</td>\n",
       "    </tr>\n",
       "    <tr>\n",
       "      <th>4</th>\n",
       "      <td>Accommodation and food services</td>\n",
       "      <td>72</td>\n",
       "      <td>46411000</td>\n",
       "    </tr>\n",
       "  </tbody>\n",
       "</table>\n",
       "</div>"
      ],
      "text/plain": [
       "                           NAICS_name NAICS_code  _EMPLOYMENT_\n",
       "0                      Retail trade        44-45      71565000\n",
       "1  Health care and social assistance          62      66872000\n",
       "2                      Manufacturing       31-33      49336250\n",
       "3                       Construction          23      47616500\n",
       "4    Accommodation and food services          72      46411000"
      ]
     },
     "metadata": {},
     "output_type": "display_data"
    },
    {
     "data": {
      "text/html": [
       "<div>\n",
       "<style scoped>\n",
       "    .dataframe tbody tr th:only-of-type {\n",
       "        vertical-align: middle;\n",
       "    }\n",
       "\n",
       "    .dataframe tbody tr th {\n",
       "        vertical-align: top;\n",
       "    }\n",
       "\n",
       "    .dataframe thead th {\n",
       "        text-align: right;\n",
       "    }\n",
       "</style>\n",
       "<table border=\"1\" class=\"dataframe\">\n",
       "  <thead>\n",
       "    <tr style=\"text-align: right;\">\n",
       "      <th></th>\n",
       "      <th>NAICS_name</th>\n",
       "      <th>NAICS_code</th>\n",
       "      <th>_EMPLOYMENT_</th>\n",
       "    </tr>\n",
       "  </thead>\n",
       "  <tbody>\n",
       "    <tr>\n",
       "      <th>15</th>\n",
       "      <td>Agriculture, forestry, fishing and hunting</td>\n",
       "      <td>11</td>\n",
       "      <td>14753250</td>\n",
       "    </tr>\n",
       "    <tr>\n",
       "      <th>16</th>\n",
       "      <td>Real estate, rental and leasing</td>\n",
       "      <td>53</td>\n",
       "      <td>12959250</td>\n",
       "    </tr>\n",
       "    <tr>\n",
       "      <th>17</th>\n",
       "      <td>Mining, quarrying, and oil and gas extraction</td>\n",
       "      <td>21</td>\n",
       "      <td>5678750</td>\n",
       "    </tr>\n",
       "    <tr>\n",
       "      <th>18</th>\n",
       "      <td>Utilities</td>\n",
       "      <td>22</td>\n",
       "      <td>3130750</td>\n",
       "    </tr>\n",
       "    <tr>\n",
       "      <th>19</th>\n",
       "      <td>Management of companies and enterprises</td>\n",
       "      <td>55</td>\n",
       "      <td>78500</td>\n",
       "    </tr>\n",
       "  </tbody>\n",
       "</table>\n",
       "</div>"
      ],
      "text/plain": [
       "                                        NAICS_name NAICS_code  _EMPLOYMENT_\n",
       "15     Agriculture, forestry, fishing and hunting          11      14753250\n",
       "16                Real estate, rental and leasing          53      12959250\n",
       "17  Mining, quarrying, and oil and gas extraction          21       5678750\n",
       "18                                      Utilities          22       3130750\n",
       "19        Management of companies and enterprises          55         78500"
      ]
     },
     "metadata": {},
     "output_type": "display_data"
    }
   ],
   "source": [
    "#Group the industry by name and code and find its summation of the employment column\n",
    "employ_by_industry = naics_2_code_employ_data.groupby([\"NAICS_name\",\"NAICS_code\"])._EMPLOYMENT_.sum().reset_index()\n",
    "#Sort the employment column from the highest to the lowest\n",
    "employ_by_industry = employ_by_industry.sort_values(by=\"_EMPLOYMENT_\",ascending=False).reset_index(drop=True)\n",
    "#Display the first and last 5 rows of the results\n",
    "display(employ_by_industry.head(),employ_by_industry.tail())"
   ]
  },
  {
   "cell_type": "code",
   "execution_count": 41,
   "metadata": {},
   "outputs": [
    {
     "data": {
      "image/png": "[encoded data removed]",
      "text/plain": [
       "<Figure size 432x288 with 1 Axes>"
      ]
     },
     "metadata": {
      "needs_background": "light"
     },
     "output_type": "display_data"
    },
    {
     "data": {
      "image/png": "[encoded data removed]",
      "text/plain": [
       "<Figure size 432x288 with 1 Axes>"
      ]
     },
     "metadata": {
      "needs_background": "light"
     },
     "output_type": "display_data"
    }
   ],
   "source": [
    "#Plot a scatter plot of 2-digit NAICS industries against the number of employment offerred \n",
    "sns.scatterplot(x=\"NAICS_code\",y=\"_EMPLOYMENT_\",data=employ_by_industry)\n",
    "#Set the title of the scatter plot\n",
    "plt.title(\"Scatter Plot of Total Employment per industry\")\n",
    "#Set the y-axis label of the scatter plot\n",
    "plt.ylabel(\"Total number of employment\")\n",
    "#Set the x-axis label of the scatter plot\n",
    "plt.xlabel(\"2-digit NAICS industry\")\n",
    "#Rotation the x-axis ticks of the scatterplot\n",
    "plt.xticks(rotation=90)\n",
    "#Display the graph\n",
    "plt.show()\n",
    "g = sns.barplot(x=\"NAICS_code\",y=\"_EMPLOYMENT_\",data=employ_by_industry)\n",
    "#Set the title of the Bar chart\n",
    "plt.title(\"Bar Chart of Total Employment per industry\")\n",
    "#Set the y-axis label of the Bar chart\n",
    "plt.ylabel(\"Total number of employment\")\n",
    "#Set the x-axis label of the Bar chart\n",
    "plt.xlabel(\"2-digit NAICS industry\")\n",
    "#Rotation the x-axis ticks of the Bar chart\n",
    "plt.xticks(rotation=90)\n",
    "#Display the graph\n",
    "plt.show()"
   ]
  },
  {
   "cell_type": "markdown",
   "metadata": {},
   "source": [
    "Out of the total of **Five Hundred and Eighty-nine million, six hundred and forty-three thousand, two hundred and fifty (i.e.589 643 250)** employment provided across all the industries, **Retail Trade with code 44-45** employed a total of **Seventy-one million, five hundred and sixty-five thousand (i.e. 71 565 000)** representing **12.14%** followed by *Health and social assistance industry* (62) with **66 872 000** total employment, *Manufactuirng*, *Construction*, and *Accommodation and Food Services* in that order for the best five employable industries."
   ]
  },
  {
   "cell_type": "markdown",
   "metadata": {},
   "source": [
    "Further analysis of the two best employing industries (i.e. Retail Trade and Healthcare and social assistance) on yearly and monthly basis for entire period is below."
   ]
  },
  {
   "cell_type": "code",
   "execution_count": 42,
   "metadata": {},
   "outputs": [],
   "source": [
    "industry_by_code_select(naics_2_code_employ_data,\"44-45\")\n",
    "retail_trade_yearly = naics_data_specific_years(industry_by_code_select(naics_2_code_employ_data,\"44-45\"),\"1997\",\"2019\")\n",
    "health_yearly = naics_data_specific_years(industry_by_code_select(naics_2_code_employ_data,\"62\"),\"1997\",\"2019\")"
   ]
  },
  {
   "cell_type": "code",
   "execution_count": 43,
   "metadata": {},
   "outputs": [
    {
     "data": {
      "image/png": "[encoded data removed]",
      "text/plain": [
       "<Figure size 576x432 with 2 Axes>"
      ]
     },
     "metadata": {
      "needs_background": "light"
     },
     "output_type": "display_data"
    }
   ],
   "source": [
    "fig,(ax,ax1) = plt.subplots(2,figsize=(8,6))\n",
    "plt.subplots_adjust(top = 0.85, bottom=0.01, hspace=0.5, wspace=0.4)\n",
    "fig.suptitle(\"Comparing Retail Trade and Healthcare & Social Assistance yearly employment\")\n",
    "ax.scatter(x=years,y=retail_trade_yearly[\"_EMPLOYMENT_\"])\n",
    "ax.set_title(\"Retail Trade\")\n",
    "ax.set_ylabel(\"Total employment\")\n",
    "ax1.scatter(x=years,y=health_yearly[\"_EMPLOYMENT_\"])\n",
    "ax1.set_title(\"Healthcare and Social Assistance\")\n",
    "for ax in fig.axes:\n",
    "    ax.set_xticklabels(years,rotation=90)\n",
    "    ax.set_xlabel(\"Year\")\n",
    "plt.show()"
   ]
  },
  {
   "cell_type": "code",
   "execution_count": 44,
   "metadata": {},
   "outputs": [
    {
     "name": "stdout",
     "output_type": "stream",
     "text": [
      "{1: 5917250, 2: 5894500, 3: 5936000, 4: 5941000, 5: 6046500, 6: 6087500, 7: 6117000, 8: 6112750, 9: 6052250, 10: 5752250, 11: 5838000, 12: 5870000}\n"
     ]
    }
   ],
   "source": [
    "retail = industry_by_code_select(naics_2_code_employ_data,\"44-45\")\n",
    "health = industry_by_code_select(naics_2_code_employ_data,\"62\")\n",
    "retail.loc[\"1997-01\":\"2019-12\"].resample(\"M\").sum().head()\n",
    "health.loc[\"1997-01\":\"2019-12\"].resample(\"M\").sum().head()\n",
    "#Empty dictionary to accumulate the values for each month\n",
    "retail_employ_monthly_dict = {}\n",
    "#Iterate through the dataset and aggregate the values for each month for the entire period\n",
    "for index,row in retail.iterrows():\n",
    "    mths = index.month\n",
    "    value = retail.loc[index,\"_EMPLOYMENT_\"]\n",
    "    if mths in retail_employ_monthly_dict:\n",
    "        retail_employ_monthly_dict[mths]+=value\n",
    "    else:\n",
    "        retail_employ_monthly_dict[mths]=value\n",
    "#Sort the dictionary in descending order\n",
    "retail_month_employ_sorted = sorted(retail_employ_monthly_dict.items(),key=lambda x:x[1],reverse=True)\n",
    "#Empty list to store the values of the sorted dictionary for plotting\n",
    "retail_month_values = []\n",
    "#Iterate through the dictionary keys and append its value to a list\n",
    "for index,value in retail_employ_monthly_dict.items():\n",
    "    retail_month_values.append(value)\n",
    "print(retail_employ_monthly_dict)"
   ]
  },
  {
   "cell_type": "code",
   "execution_count": 45,
   "metadata": {},
   "outputs": [
    {
     "name": "stdout",
     "output_type": "stream",
     "text": [
      "{1: 5533000, 2: 5558500, 3: 5594750, 4: 5604500, 5: 5617750, 6: 5672750, 7: 5680750, 8: 5697000, 9: 5695250, 10: 5409000, 11: 5398500, 12: 5410250}\n"
     ]
    }
   ],
   "source": [
    "#Empty dictionary to accumulate the values for each month\n",
    "health_employ_monthly_dict = {}\n",
    "#Iterate through the dataset and aggregate the values for each month for the entire period\n",
    "for index,row in health.iterrows():\n",
    "    mths = index.month\n",
    "    value = health.loc[index,\"_EMPLOYMENT_\"]\n",
    "    if mths in health_employ_monthly_dict:\n",
    "        health_employ_monthly_dict[mths]+=value\n",
    "    else:\n",
    "        health_employ_monthly_dict[mths]=value\n",
    "#Sort the dictionary in descending order\n",
    "health_month_employ_sorted = sorted(health_employ_monthly_dict.items(),key=lambda x:x[1],reverse=True)\n",
    "#Empty list to store the values of the sorted dictionary for plotting\n",
    "health_month_values = []\n",
    "#Iterate through the dictionary keys and append its value to a list\n",
    "for index,value in health_employ_monthly_dict.items():\n",
    "    health_month_values.append(value)\n",
    "print(health_employ_monthly_dict)"
   ]
  },
  {
   "cell_type": "code",
   "execution_count": 46,
   "metadata": {},
   "outputs": [
    {
     "data": {
      "image/png": "[encoded data removed]",
      "text/plain": [
       "<Figure size 432x432 with 2 Axes>"
      ]
     },
     "metadata": {
      "needs_background": "light"
     },
     "output_type": "display_data"
    }
   ],
   "source": [
    "#Create a subplot figure with two rows to compare the monthly employment figure for the \n",
    "#entire period, 1997 to 2019\n",
    "fig,(ax1,ax2) = plt.subplots(2,figsize=(6,6),sharex=True)\n",
    "#Adjust the subplot for spacing and readability\n",
    "plt.subplots_adjust(top = 0.89, bottom=0.01, hspace=0.25, wspace=0.4)\n",
    "#Set the main title for the subplot\n",
    "fig.suptitle(\"Comparing aggregate employment per month over the entire period for Retail and Healthcare & Social Assistance\")\n",
    "#Plot the first graph\n",
    "ax1.scatter(x=months,y=retail_month_values)\n",
    "#Set the title for the first graph\n",
    "ax1.set_title(\"Retail Trade\")\n",
    "#Set the y-axis label for the first graph\n",
    "ax1.set_ylabel(\"Total employment\")\n",
    "#Plot the second graph\n",
    "ax2.bar(months,health_month_values,color=\"BryGY\")\n",
    "#Set the title for the second graph\n",
    "ax2.set_title(\"Healthcare and Social Assistance\")\n",
    "#Set the y-axis label for the first graph\n",
    "ax2.set_ylabel(\"Total employment\")\n",
    "#Set the x-axis ticks for the figure\n",
    "plt.xticks(range(len(months)),months,rotation=90)\n",
    "#Display the figure\n",
    "plt.show()"
   ]
  },
  {
   "cell_type": "markdown",
   "metadata": {},
   "source": [
    "Critically looking at the two graphs confirms the earlier state assumption that more people are employed during the second half of the year especially from *May* to *September* with the reasons yet known and further studies and research on the Canadian industires would be able to point out such reasons."
   ]
  },
  {
   "cell_type": "markdown",
   "metadata": {},
   "source": [
    "In conclusion, it was observed that the total employment across the 3-digit NAICS industries were the same but that of the 4-digit NAICS industries fall short of two hundred and fifty (250)."
   ]
  },
  {
   "cell_type": "code",
   "execution_count": 47,
   "metadata": {},
   "outputs": [],
   "source": [
    "naics_2_sum = naics_2_code_employ_data._EMPLOYMENT_.sum()\n",
    "naics_3_sum = naics_3_code_employ_data._EMPLOYMENT_.sum()\n",
    "naics_4_sum = naics_4_code_employ_data._EMPLOYMENT_.sum()"
   ]
  },
  {
   "cell_type": "code",
   "execution_count": 48,
   "metadata": {},
   "outputs": [
    {
     "name": "stdout",
     "output_type": "stream",
     "text": [
      "The difference between 2-digit NAICS industries' total employment and 3-digit NAICS industries' is 0\n",
      "The difference between 3-digit NAICS industries' total employment and 4-digit NAICS industries' is 250\n",
      "The difference between 2-digit NAICS industries' total employment and 4-digit NAICS industries' is 250\n"
     ]
    }
   ],
   "source": [
    "print(\"The difference between 2-digit NAICS industries' total employment and 3-digit NAICS industries' is {}\".\\\n",
    "      format(int(naics_2_sum)-int(naics_3_sum)))\n",
    "print(\"The difference between 3-digit NAICS industries' total employment and 4-digit NAICS industries' is {}\".\\\n",
    "      format(int(naics_3_sum)-int(naics_4_sum)))\n",
    "print(\"The difference between 2-digit NAICS industries' total employment and 4-digit NAICS industries' is {}\".\\\n",
    "      format(int(naics_2_sum)-int(naics_4_sum)))"
   ]
  },
  {
   "cell_type": "code",
   "execution_count": null,
   "metadata": {},
   "outputs": [],
   "source": []
  }
 ],
 "metadata": {
  "kernelspec": {
   "display_name": "Python 3",
   "language": "python",
   "name": "python3"
  },
  "language_info": {
   "codemirror_mode": {
    "name": "ipython",
    "version": 3
   },
   "file_extension": ".py",
   "mimetype": "text/x-python",
   "name": "python",
   "nbconvert_exporter": "python",
   "pygments_lexer": "ipython3",
   "version": "3.7.3"
  }
 },
 "nbformat": 4,
 "nbformat_minor": 2
}
